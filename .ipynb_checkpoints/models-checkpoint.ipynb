{
 "cells": [
  {
   "cell_type": "markdown",
   "metadata": {},
   "source": [
    "# Get Data"
   ]
  },
  {
   "cell_type": "code",
   "execution_count": 1,
   "metadata": {},
   "outputs": [],
   "source": [
    "import pandas as pd"
   ]
  },
  {
   "cell_type": "code",
   "execution_count": 2,
   "metadata": {},
   "outputs": [],
   "source": [
    "pd.set_option('display.max_rows', 500)\n",
    "pd.set_option('display.max_columns', 40)"
   ]
  },
  {
   "cell_type": "code",
   "execution_count": null,
   "metadata": {},
   "outputs": [],
   "source": [
    "df = pd.read_pickle(\"./dataframe.pkl\")\n",
    "df.head() # shape = (278220, 35)"
   ]
  },
  {
   "cell_type": "markdown",
   "metadata": {},
   "source": [
    "# EDA (Exploratory Data Analysis"
   ]
  },
  {
   "cell_type": "code",
   "execution_count": 4,
   "metadata": {},
   "outputs": [],
   "source": [
    "import numpy as np\n",
    "import seaborn as sns\n",
    "import matplotlib.pyplot as plt"
   ]
  },
  {
   "cell_type": "code",
   "execution_count": 5,
   "metadata": {},
   "outputs": [
    {
     "data": {
      "text/html": [
       "<div>\n",
       "<style scoped>\n",
       "    .dataframe tbody tr th:only-of-type {\n",
       "        vertical-align: middle;\n",
       "    }\n",
       "\n",
       "    .dataframe tbody tr th {\n",
       "        vertical-align: top;\n",
       "    }\n",
       "\n",
       "    .dataframe thead th {\n",
       "        text-align: right;\n",
       "    }\n",
       "</style>\n",
       "<table border=\"1\" class=\"dataframe\">\n",
       "  <thead>\n",
       "    <tr style=\"text-align: right;\">\n",
       "      <th></th>\n",
       "      <th>Year</th>\n",
       "      <th>Month</th>\n",
       "      <th>Day</th>\n",
       "      <th>hour</th>\n",
       "      <th>pressure</th>\n",
       "      <th>humidity</th>\n",
       "      <th>temperature</th>\n",
       "      <th>wind_direction</th>\n",
       "      <th>wind_speed</th>\n",
       "      <th>Flights</th>\n",
       "      <th>DepTime</th>\n",
       "      <th>DepDelay</th>\n",
       "      <th>DepDelayMinutes</th>\n",
       "      <th>DepDel15</th>\n",
       "      <th>CRSDepTime</th>\n",
       "      <th>Distance</th>\n",
       "      <th>DepartureDelayGroups</th>\n",
       "      <th>TaxiOut</th>\n",
       "      <th>TaxiIn</th>\n",
       "      <th>ArrTime</th>\n",
       "      <th>ArrDelay</th>\n",
       "      <th>Cancelled</th>\n",
       "      <th>Diverted</th>\n",
       "      <th>AirTime</th>\n",
       "      <th>Distance</th>\n",
       "      <th>CarrierDelay</th>\n",
       "      <th>WeatherDelay</th>\n",
       "      <th>NASDelay</th>\n",
       "      <th>SecurityDelay</th>\n",
       "      <th>LateAircraftDelay</th>\n",
       "      <th>CancellationCode</th>\n",
       "      <th>SchedDepartTime</th>\n",
       "    </tr>\n",
       "  </thead>\n",
       "  <tbody>\n",
       "    <tr>\n",
       "      <th>count</th>\n",
       "      <td>278220.000000</td>\n",
       "      <td>278220.0</td>\n",
       "      <td>278220.000000</td>\n",
       "      <td>278220.000000</td>\n",
       "      <td>278220.000000</td>\n",
       "      <td>278220.000000</td>\n",
       "      <td>278220.000000</td>\n",
       "      <td>278220.000000</td>\n",
       "      <td>278220.00000</td>\n",
       "      <td>278220.0</td>\n",
       "      <td>278220.000000</td>\n",
       "      <td>278220.000000</td>\n",
       "      <td>278220.000000</td>\n",
       "      <td>278220.000000</td>\n",
       "      <td>278220.000000</td>\n",
       "      <td>278220.000000</td>\n",
       "      <td>278220.000000</td>\n",
       "      <td>278220.000000</td>\n",
       "      <td>278220.000000</td>\n",
       "      <td>278220.000000</td>\n",
       "      <td>278220.000000</td>\n",
       "      <td>278220.0</td>\n",
       "      <td>278220.0</td>\n",
       "      <td>278220.000000</td>\n",
       "      <td>278220.000000</td>\n",
       "      <td>278220.00000</td>\n",
       "      <td>278220.000000</td>\n",
       "      <td>278220.000000</td>\n",
       "      <td>278220.000000</td>\n",
       "      <td>278220.000000</td>\n",
       "      <td>278220.0</td>\n",
       "      <td>278220.000000</td>\n",
       "    </tr>\n",
       "    <tr>\n",
       "      <th>mean</th>\n",
       "      <td>2015.957994</td>\n",
       "      <td>1.0</td>\n",
       "      <td>15.931015</td>\n",
       "      <td>13.916016</td>\n",
       "      <td>1025.617576</td>\n",
       "      <td>72.054471</td>\n",
       "      <td>275.979320</td>\n",
       "      <td>206.183143</td>\n",
       "      <td>3.25739</td>\n",
       "      <td>1.0</td>\n",
       "      <td>1421.445942</td>\n",
       "      <td>10.995881</td>\n",
       "      <td>13.283481</td>\n",
       "      <td>0.206613</td>\n",
       "      <td>1413.458759</td>\n",
       "      <td>754.628938</td>\n",
       "      <td>0.128064</td>\n",
       "      <td>17.585432</td>\n",
       "      <td>6.523618</td>\n",
       "      <td>1557.973722</td>\n",
       "      <td>6.275713</td>\n",
       "      <td>0.0</td>\n",
       "      <td>0.0</td>\n",
       "      <td>105.129534</td>\n",
       "      <td>754.628938</td>\n",
       "      <td>4.61010</td>\n",
       "      <td>1.001610</td>\n",
       "      <td>2.678610</td>\n",
       "      <td>0.009241</td>\n",
       "      <td>4.101190</td>\n",
       "      <td>0.0</td>\n",
       "      <td>1410.450061</td>\n",
       "    </tr>\n",
       "    <tr>\n",
       "      <th>std</th>\n",
       "      <td>0.821882</td>\n",
       "      <td>0.0</td>\n",
       "      <td>8.945811</td>\n",
       "      <td>4.728736</td>\n",
       "      <td>12.398161</td>\n",
       "      <td>21.482904</td>\n",
       "      <td>8.169222</td>\n",
       "      <td>97.990074</td>\n",
       "      <td>2.12269</td>\n",
       "      <td>0.0</td>\n",
       "      <td>471.904927</td>\n",
       "      <td>38.254220</td>\n",
       "      <td>37.345060</td>\n",
       "      <td>0.404876</td>\n",
       "      <td>460.127141</td>\n",
       "      <td>482.384654</td>\n",
       "      <td>2.116769</td>\n",
       "      <td>8.914018</td>\n",
       "      <td>5.134471</td>\n",
       "      <td>512.085840</td>\n",
       "      <td>41.217194</td>\n",
       "      <td>0.0</td>\n",
       "      <td>0.0</td>\n",
       "      <td>60.657900</td>\n",
       "      <td>482.384654</td>\n",
       "      <td>23.53976</td>\n",
       "      <td>13.352123</td>\n",
       "      <td>12.565422</td>\n",
       "      <td>0.593218</td>\n",
       "      <td>19.550369</td>\n",
       "      <td>0.0</td>\n",
       "      <td>469.316295</td>\n",
       "    </tr>\n",
       "    <tr>\n",
       "      <th>min</th>\n",
       "      <td>2015.000000</td>\n",
       "      <td>1.0</td>\n",
       "      <td>1.000000</td>\n",
       "      <td>0.000000</td>\n",
       "      <td>943.000000</td>\n",
       "      <td>7.000000</td>\n",
       "      <td>250.470000</td>\n",
       "      <td>0.000000</td>\n",
       "      <td>0.00000</td>\n",
       "      <td>1.0</td>\n",
       "      <td>1.000000</td>\n",
       "      <td>-28.000000</td>\n",
       "      <td>0.000000</td>\n",
       "      <td>0.000000</td>\n",
       "      <td>1.000000</td>\n",
       "      <td>67.000000</td>\n",
       "      <td>-2.000000</td>\n",
       "      <td>1.000000</td>\n",
       "      <td>1.000000</td>\n",
       "      <td>1.000000</td>\n",
       "      <td>-68.000000</td>\n",
       "      <td>0.0</td>\n",
       "      <td>0.0</td>\n",
       "      <td>13.000000</td>\n",
       "      <td>67.000000</td>\n",
       "      <td>0.00000</td>\n",
       "      <td>0.000000</td>\n",
       "      <td>0.000000</td>\n",
       "      <td>0.000000</td>\n",
       "      <td>0.000000</td>\n",
       "      <td>0.0</td>\n",
       "      <td>-1095.000000</td>\n",
       "    </tr>\n",
       "    <tr>\n",
       "      <th>25%</th>\n",
       "      <td>2015.000000</td>\n",
       "      <td>1.0</td>\n",
       "      <td>8.000000</td>\n",
       "      <td>10.000000</td>\n",
       "      <td>1017.000000</td>\n",
       "      <td>56.000000</td>\n",
       "      <td>270.771697</td>\n",
       "      <td>130.000000</td>\n",
       "      <td>2.00000</td>\n",
       "      <td>1.0</td>\n",
       "      <td>1026.000000</td>\n",
       "      <td>-4.000000</td>\n",
       "      <td>0.000000</td>\n",
       "      <td>0.000000</td>\n",
       "      <td>1020.000000</td>\n",
       "      <td>416.000000</td>\n",
       "      <td>-1.000000</td>\n",
       "      <td>12.000000</td>\n",
       "      <td>4.000000</td>\n",
       "      <td>1207.000000</td>\n",
       "      <td>-13.000000</td>\n",
       "      <td>0.0</td>\n",
       "      <td>0.0</td>\n",
       "      <td>64.000000</td>\n",
       "      <td>416.000000</td>\n",
       "      <td>0.00000</td>\n",
       "      <td>0.000000</td>\n",
       "      <td>0.000000</td>\n",
       "      <td>0.000000</td>\n",
       "      <td>0.000000</td>\n",
       "      <td>0.0</td>\n",
       "      <td>1020.000000</td>\n",
       "    </tr>\n",
       "    <tr>\n",
       "      <th>50%</th>\n",
       "      <td>2016.000000</td>\n",
       "      <td>1.0</td>\n",
       "      <td>16.000000</td>\n",
       "      <td>14.000000</td>\n",
       "      <td>1025.000000</td>\n",
       "      <td>74.000000</td>\n",
       "      <td>275.871500</td>\n",
       "      <td>220.000000</td>\n",
       "      <td>3.00000</td>\n",
       "      <td>1.0</td>\n",
       "      <td>1423.000000</td>\n",
       "      <td>-1.000000</td>\n",
       "      <td>0.000000</td>\n",
       "      <td>0.000000</td>\n",
       "      <td>1415.000000</td>\n",
       "      <td>641.000000</td>\n",
       "      <td>-1.000000</td>\n",
       "      <td>15.000000</td>\n",
       "      <td>5.000000</td>\n",
       "      <td>1603.000000</td>\n",
       "      <td>-4.000000</td>\n",
       "      <td>0.0</td>\n",
       "      <td>0.0</td>\n",
       "      <td>92.000000</td>\n",
       "      <td>641.000000</td>\n",
       "      <td>0.00000</td>\n",
       "      <td>0.000000</td>\n",
       "      <td>0.000000</td>\n",
       "      <td>0.000000</td>\n",
       "      <td>0.000000</td>\n",
       "      <td>0.0</td>\n",
       "      <td>1415.000000</td>\n",
       "    </tr>\n",
       "    <tr>\n",
       "      <th>75%</th>\n",
       "      <td>2017.000000</td>\n",
       "      <td>1.0</td>\n",
       "      <td>24.000000</td>\n",
       "      <td>18.000000</td>\n",
       "      <td>1035.000000</td>\n",
       "      <td>92.000000</td>\n",
       "      <td>281.410000</td>\n",
       "      <td>290.000000</td>\n",
       "      <td>4.00000</td>\n",
       "      <td>1.0</td>\n",
       "      <td>1827.000000</td>\n",
       "      <td>10.000000</td>\n",
       "      <td>10.000000</td>\n",
       "      <td>0.000000</td>\n",
       "      <td>1815.000000</td>\n",
       "      <td>946.000000</td>\n",
       "      <td>0.000000</td>\n",
       "      <td>20.000000</td>\n",
       "      <td>7.000000</td>\n",
       "      <td>2004.000000</td>\n",
       "      <td>10.000000</td>\n",
       "      <td>0.0</td>\n",
       "      <td>0.0</td>\n",
       "      <td>130.000000</td>\n",
       "      <td>946.000000</td>\n",
       "      <td>0.00000</td>\n",
       "      <td>0.000000</td>\n",
       "      <td>0.000000</td>\n",
       "      <td>0.000000</td>\n",
       "      <td>0.000000</td>\n",
       "      <td>0.0</td>\n",
       "      <td>1815.000000</td>\n",
       "    </tr>\n",
       "    <tr>\n",
       "      <th>max</th>\n",
       "      <td>2017.000000</td>\n",
       "      <td>1.0</td>\n",
       "      <td>31.000000</td>\n",
       "      <td>23.000000</td>\n",
       "      <td>1064.000000</td>\n",
       "      <td>100.000000</td>\n",
       "      <td>300.490000</td>\n",
       "      <td>360.000000</td>\n",
       "      <td>17.00000</td>\n",
       "      <td>1.0</td>\n",
       "      <td>2359.000000</td>\n",
       "      <td>1470.000000</td>\n",
       "      <td>1470.000000</td>\n",
       "      <td>1.000000</td>\n",
       "      <td>2359.000000</td>\n",
       "      <td>4502.000000</td>\n",
       "      <td>12.000000</td>\n",
       "      <td>176.000000</td>\n",
       "      <td>344.000000</td>\n",
       "      <td>2400.000000</td>\n",
       "      <td>1455.000000</td>\n",
       "      <td>0.0</td>\n",
       "      <td>0.0</td>\n",
       "      <td>615.000000</td>\n",
       "      <td>4502.000000</td>\n",
       "      <td>1217.00000</td>\n",
       "      <td>1329.000000</td>\n",
       "      <td>834.000000</td>\n",
       "      <td>123.000000</td>\n",
       "      <td>1175.000000</td>\n",
       "      <td>0.0</td>\n",
       "      <td>2370.000000</td>\n",
       "    </tr>\n",
       "  </tbody>\n",
       "</table>\n",
       "</div>"
      ],
      "text/plain": [
       "                Year     Month            Day           hour       pressure  \\\n",
       "count  278220.000000  278220.0  278220.000000  278220.000000  278220.000000   \n",
       "mean     2015.957994       1.0      15.931015      13.916016    1025.617576   \n",
       "std         0.821882       0.0       8.945811       4.728736      12.398161   \n",
       "min      2015.000000       1.0       1.000000       0.000000     943.000000   \n",
       "25%      2015.000000       1.0       8.000000      10.000000    1017.000000   \n",
       "50%      2016.000000       1.0      16.000000      14.000000    1025.000000   \n",
       "75%      2017.000000       1.0      24.000000      18.000000    1035.000000   \n",
       "max      2017.000000       1.0      31.000000      23.000000    1064.000000   \n",
       "\n",
       "            humidity    temperature  wind_direction    wind_speed   Flights  \\\n",
       "count  278220.000000  278220.000000   278220.000000  278220.00000  278220.0   \n",
       "mean       72.054471     275.979320      206.183143       3.25739       1.0   \n",
       "std        21.482904       8.169222       97.990074       2.12269       0.0   \n",
       "min         7.000000     250.470000        0.000000       0.00000       1.0   \n",
       "25%        56.000000     270.771697      130.000000       2.00000       1.0   \n",
       "50%        74.000000     275.871500      220.000000       3.00000       1.0   \n",
       "75%        92.000000     281.410000      290.000000       4.00000       1.0   \n",
       "max       100.000000     300.490000      360.000000      17.00000       1.0   \n",
       "\n",
       "             DepTime       DepDelay  DepDelayMinutes       DepDel15  \\\n",
       "count  278220.000000  278220.000000    278220.000000  278220.000000   \n",
       "mean     1421.445942      10.995881        13.283481       0.206613   \n",
       "std       471.904927      38.254220        37.345060       0.404876   \n",
       "min         1.000000     -28.000000         0.000000       0.000000   \n",
       "25%      1026.000000      -4.000000         0.000000       0.000000   \n",
       "50%      1423.000000      -1.000000         0.000000       0.000000   \n",
       "75%      1827.000000      10.000000        10.000000       0.000000   \n",
       "max      2359.000000    1470.000000      1470.000000       1.000000   \n",
       "\n",
       "          CRSDepTime       Distance  DepartureDelayGroups        TaxiOut  \\\n",
       "count  278220.000000  278220.000000         278220.000000  278220.000000   \n",
       "mean     1413.458759     754.628938              0.128064      17.585432   \n",
       "std       460.127141     482.384654              2.116769       8.914018   \n",
       "min         1.000000      67.000000             -2.000000       1.000000   \n",
       "25%      1020.000000     416.000000             -1.000000      12.000000   \n",
       "50%      1415.000000     641.000000             -1.000000      15.000000   \n",
       "75%      1815.000000     946.000000              0.000000      20.000000   \n",
       "max      2359.000000    4502.000000             12.000000     176.000000   \n",
       "\n",
       "              TaxiIn        ArrTime       ArrDelay  Cancelled  Diverted  \\\n",
       "count  278220.000000  278220.000000  278220.000000   278220.0  278220.0   \n",
       "mean        6.523618    1557.973722       6.275713        0.0       0.0   \n",
       "std         5.134471     512.085840      41.217194        0.0       0.0   \n",
       "min         1.000000       1.000000     -68.000000        0.0       0.0   \n",
       "25%         4.000000    1207.000000     -13.000000        0.0       0.0   \n",
       "50%         5.000000    1603.000000      -4.000000        0.0       0.0   \n",
       "75%         7.000000    2004.000000      10.000000        0.0       0.0   \n",
       "max       344.000000    2400.000000    1455.000000        0.0       0.0   \n",
       "\n",
       "             AirTime       Distance  CarrierDelay   WeatherDelay  \\\n",
       "count  278220.000000  278220.000000  278220.00000  278220.000000   \n",
       "mean      105.129534     754.628938       4.61010       1.001610   \n",
       "std        60.657900     482.384654      23.53976      13.352123   \n",
       "min        13.000000      67.000000       0.00000       0.000000   \n",
       "25%        64.000000     416.000000       0.00000       0.000000   \n",
       "50%        92.000000     641.000000       0.00000       0.000000   \n",
       "75%       130.000000     946.000000       0.00000       0.000000   \n",
       "max       615.000000    4502.000000    1217.00000    1329.000000   \n",
       "\n",
       "            NASDelay  SecurityDelay  LateAircraftDelay  CancellationCode  \\\n",
       "count  278220.000000  278220.000000      278220.000000          278220.0   \n",
       "mean        2.678610       0.009241           4.101190               0.0   \n",
       "std        12.565422       0.593218          19.550369               0.0   \n",
       "min         0.000000       0.000000           0.000000               0.0   \n",
       "25%         0.000000       0.000000           0.000000               0.0   \n",
       "50%         0.000000       0.000000           0.000000               0.0   \n",
       "75%         0.000000       0.000000           0.000000               0.0   \n",
       "max       834.000000     123.000000        1175.000000               0.0   \n",
       "\n",
       "       SchedDepartTime  \n",
       "count    278220.000000  \n",
       "mean       1410.450061  \n",
       "std         469.316295  \n",
       "min       -1095.000000  \n",
       "25%        1020.000000  \n",
       "50%        1415.000000  \n",
       "75%        1815.000000  \n",
       "max        2370.000000  "
      ]
     },
     "execution_count": 5,
     "metadata": {},
     "output_type": "execute_result"
    }
   ],
   "source": [
    "df.describe()\n",
    "# temperature is in Kelvin\n",
    "# Pressure"
   ]
  },
  {
   "cell_type": "markdown",
   "metadata": {},
   "source": [
    "From analyzing description, we realized we are just focusing on january"
   ]
  },
  {
   "cell_type": "markdown",
   "metadata": {},
   "source": [
    "### if there were time, we would explore all features, but there was no time, so we didn't."
   ]
  },
  {
   "cell_type": "markdown",
   "metadata": {},
   "source": [
    "## Explore weather data"
   ]
  },
  {
   "cell_type": "code",
   "execution_count": 6,
   "metadata": {},
   "outputs": [
    {
     "name": "stderr",
     "output_type": "stream",
     "text": [
      "/home/ec2-user/anaconda3/envs/tensorflow_p36/lib/python3.6/site-packages/matplotlib/axes/_axes.py:6462: UserWarning: The 'normed' kwarg is deprecated, and has been replaced by the 'density' kwarg.\n",
      "  warnings.warn(\"The 'normed' kwarg is deprecated, and has been \"\n"
     ]
    },
    {
     "data": {
      "image/png": "[encoded data removed]",
      "text/plain": [
       "<Figure size 432x288 with 1 Axes>"
      ]
     },
     "metadata": {},
     "output_type": "display_data"
    }
   ],
   "source": [
    "sns.distplot(df.temperature, kde = False);\n",
    "# This looks like a normal distribution"
   ]
  },
  {
   "cell_type": "code",
   "execution_count": 7,
   "metadata": {},
   "outputs": [
    {
     "name": "stderr",
     "output_type": "stream",
     "text": [
      "/home/ec2-user/anaconda3/envs/tensorflow_p36/lib/python3.6/site-packages/matplotlib/axes/_axes.py:6462: UserWarning: The 'normed' kwarg is deprecated, and has been replaced by the 'density' kwarg.\n",
      "  warnings.warn(\"The 'normed' kwarg is deprecated, and has been \"\n"
     ]
    },
    {
     "data": {
      "image/png": "[encoded data removed]",
      "text/plain": [
       "<Figure size 432x288 with 1 Axes>"
      ]
     },
     "metadata": {},
     "output_type": "display_data"
    }
   ],
   "source": [
    "sns.distplot(df.pressure, kde = False);\n",
    "# There are couple outliers we're just going to get rid of"
   ]
  },
  {
   "cell_type": "code",
   "execution_count": 8,
   "metadata": {},
   "outputs": [
    {
     "name": "stderr",
     "output_type": "stream",
     "text": [
      "/home/ec2-user/anaconda3/envs/tensorflow_p36/lib/python3.6/site-packages/matplotlib/axes/_axes.py:6462: UserWarning: The 'normed' kwarg is deprecated, and has been replaced by the 'density' kwarg.\n",
      "  warnings.warn(\"The 'normed' kwarg is deprecated, and has been \"\n"
     ]
    },
    {
     "data": {
      "image/png": "[encoded data removed]",
      "text/plain": [
       "<Figure size 432x288 with 1 Axes>"
      ]
     },
     "metadata": {},
     "output_type": "display_data"
    }
   ],
   "source": [
    "sns.distplot(df.humidity, kde = True);\n",
    "# skewed "
   ]
  },
  {
   "cell_type": "code",
   "execution_count": 9,
   "metadata": {},
   "outputs": [],
   "source": [
    "# correlation heatmaps\n",
    "# ensure data in each column makes sense\n",
    "# set up target"
   ]
  },
  {
   "cell_type": "markdown",
   "metadata": {},
   "source": [
    "## Prepare target and X variables"
   ]
  },
  {
   "cell_type": "code",
   "execution_count": 10,
   "metadata": {},
   "outputs": [],
   "source": [
    "y =df.loc[:,'DepDelay']\n",
    "X =df.loc[:, df.columns != 'DepDelay']"
   ]
  },
  {
   "cell_type": "code",
   "execution_count": 11,
   "metadata": {},
   "outputs": [
    {
     "data": {
      "text/plain": [
       "Year                    float64\n",
       "Month                   float64\n",
       "Day                     float64\n",
       "hour                      int64\n",
       "pressure                float64\n",
       "humidity                float64\n",
       "temperature             float64\n",
       "wind_direction          float64\n",
       "wind_speed              float64\n",
       "description              object\n",
       "Origin                   object\n",
       "Flights                 float64\n",
       "Dest                     object\n",
       "DepTime                 float64\n",
       "DepDelayMinutes         float64\n",
       "DepDel15                float64\n",
       "CRSDepTime                int64\n",
       "Distance                float64\n",
       "DepartureDelayGroups    float64\n",
       "TaxiOut                 float64\n",
       "TaxiIn                  float64\n",
       "ArrTime                 float64\n",
       "ArrDelay                float64\n",
       "Cancelled               float64\n",
       "Diverted                float64\n",
       "AirTime                 float64\n",
       "Distance                float64\n",
       "CarrierDelay            float64\n",
       "WeatherDelay            float64\n",
       "NASDelay                float64\n",
       "SecurityDelay           float64\n",
       "LateAircraftDelay       float64\n",
       "CancellationCode          int64\n",
       "FlightNum                object\n",
       "SchedDepartTime         float64\n",
       "dtype: object"
      ]
     },
     "execution_count": 11,
     "metadata": {},
     "output_type": "execute_result"
    }
   ],
   "source": [
    "y.dtype # dtype('float64')\n",
    "X.dtypes # description, Origin, Dest, FlightNum are objects. Need to label encode them\n",
    "\n",
    "\n"
   ]
  },
  {
   "cell_type": "code",
   "execution_count": 12,
   "metadata": {},
   "outputs": [
    {
     "name": "stderr",
     "output_type": "stream",
     "text": [
      "/home/ec2-user/anaconda3/envs/tensorflow_p36/lib/python3.6/site-packages/ipykernel/__main__.py:9: SettingWithCopyWarning: \n",
      "A value is trying to be set on a copy of a slice from a DataFrame.\n",
      "Try using .loc[row_indexer,col_indexer] = value instead\n",
      "\n",
      "See the caveats in the documentation: http://pandas.pydata.org/pandas-docs/stable/indexing.html#indexing-view-versus-copy\n"
     ]
    },
    {
     "data": {
      "text/plain": [
       "Year                    float64\n",
       "Month                   float64\n",
       "Day                     float64\n",
       "hour                      int64\n",
       "pressure                float64\n",
       "humidity                float64\n",
       "temperature             float64\n",
       "wind_direction          float64\n",
       "wind_speed              float64\n",
       "description               int64\n",
       "Origin                    int64\n",
       "Flights                 float64\n",
       "Dest                      int64\n",
       "DepTime                 float64\n",
       "DepDelayMinutes         float64\n",
       "DepDel15                float64\n",
       "CRSDepTime                int64\n",
       "Distance                float64\n",
       "DepartureDelayGroups    float64\n",
       "TaxiOut                 float64\n",
       "TaxiIn                  float64\n",
       "ArrTime                 float64\n",
       "ArrDelay                float64\n",
       "Cancelled               float64\n",
       "Diverted                float64\n",
       "AirTime                 float64\n",
       "Distance                float64\n",
       "CarrierDelay            float64\n",
       "WeatherDelay            float64\n",
       "NASDelay                float64\n",
       "SecurityDelay           float64\n",
       "LateAircraftDelay       float64\n",
       "CancellationCode          int64\n",
       "FlightNum                 int64\n",
       "SchedDepartTime         float64\n",
       "dtype: object"
      ]
     },
     "execution_count": 12,
     "metadata": {},
     "output_type": "execute_result"
    }
   ],
   "source": [
    "# Had to transform object data into categories\n",
    "from sklearn import preprocessing\n",
    "\n",
    "le = preprocessing.LabelEncoder()\n",
    "categorize = ['Origin','Dest','description','FlightNum']\n",
    "for category in categorize:\n",
    "    le.fit(X[category])\n",
    "    new = le.transform(X[category])\n",
    "    X[category] = new\n",
    "X.dtypes"
   ]
  },
  {
   "cell_type": "markdown",
   "metadata": {},
   "source": [
    "# Model"
   ]
  },
  {
   "cell_type": "markdown",
   "metadata": {},
   "source": [
    "### Try Logistic Regression"
   ]
  },
  {
   "cell_type": "code",
   "execution_count": 13,
   "metadata": {},
   "outputs": [],
   "source": [
    "from sklearn.model_selection import train_test_split\n",
    "from sklearn.linear_model import LogisticRegression\n",
    "from sklearn.metrics import confusion_matrix\n",
    "from sklearn.metrics import precision_score, recall_score, accuracy_score, f1_score\n",
    "from sklearn.metrics import roc_curve, auc\n",
    "from sklearn.metrics import classification_report"
   ]
  },
  {
   "cell_type": "code",
   "execution_count": null,
   "metadata": {},
   "outputs": [],
   "source": [
    "# Split the data into train and test sets.\n",
    "X_train, X_test, y_train, y_test = train_test_split(X, y, random_state=0)\n",
    "#Fit a model\n",
    "logreg = LogisticRegression(fit_intercept = False, C = 1e12) #Starter code\n",
    "model_log = logreg.fit(X_train, y_train)\n",
    "print(model_log) #Preview model params\n",
    "\n",
    "#Predict\n",
    "y_hat_train = logreg.predict(X_train)\n",
    "y_hat_test = logreg.predict(X_test)"
   ]
  },
  {
   "cell_type": "code",
   "execution_count": null,
   "metadata": {},
   "outputs": [],
   "source": [
    "cm_matrix_test = confusion_matrix(y_hat_test, y_test)\n",
    "cm_matrix_train = confusion_matrix(y_hat_train, y_train)\n",
    "print('Confusion Matrix:\\n',cnf_matrix)"
   ]
  },
  {
   "cell_type": "code",
   "execution_count": null,
   "metadata": {},
   "outputs": [],
   "source": [
    "from sklearn.metrics import precision_score, recall_score, accuracy_score, f1_score"
   ]
  },
  {
   "cell_type": "code",
   "execution_count": null,
   "metadata": {},
   "outputs": [],
   "source": [
    "acc"
   ]
  }
 ],
 "metadata": {
  "kernelspec": {
   "display_name": "conda_tensorflow_p36",
   "language": "python",
   "name": "conda_tensorflow_p36"
  },
  "language_info": {
   "codemirror_mode": {
    "name": "ipython",
    "version": 3
   },
   "file_extension": ".py",
   "mimetype": "text/x-python",
   "name": "python",
   "nbconvert_exporter": "python",
   "pygments_lexer": "ipython3",
   "version": "3.6.5"
  }
 },
 "nbformat": 4,
 "nbformat_minor": 2
}
