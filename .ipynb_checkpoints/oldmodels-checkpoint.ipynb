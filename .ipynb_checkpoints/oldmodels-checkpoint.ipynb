{
 "cells": [
  {
   "cell_type": "markdown",
   "metadata": {},
   "source": [
    "# Get Data"
   ]
  },
  {
   "cell_type": "code",
   "execution_count": 1,
   "metadata": {
    "ExecuteTime": {
     "end_time": "2019-02-14T20:59:57.679894Z",
     "start_time": "2019-02-14T20:59:56.856786Z"
    }
   },
   "outputs": [],
   "source": [
    "import pandas as pd"
   ]
  },
  {
   "cell_type": "code",
   "execution_count": 2,
   "metadata": {
    "ExecuteTime": {
     "end_time": "2019-02-14T20:59:57.704781Z",
     "start_time": "2019-02-14T20:59:57.700790Z"
    }
   },
   "outputs": [],
   "source": [
    "pd.set_option('display.max_rows', 500)\n",
    "pd.set_option('display.max_columns', 40)"
   ]
  },
  {
   "cell_type": "code",
   "execution_count": 3,
   "metadata": {
    "ExecuteTime": {
     "end_time": "2019-02-14T20:59:58.664469Z",
     "start_time": "2019-02-14T20:59:58.310080Z"
    }
   },
   "outputs": [
    {
     "data": {
      "text/html": [
       "<div>\n",
       "<style scoped>\n",
       "    .dataframe tbody tr th:only-of-type {\n",
       "        vertical-align: middle;\n",
       "    }\n",
       "\n",
       "    .dataframe tbody tr th {\n",
       "        vertical-align: top;\n",
       "    }\n",
       "\n",
       "    .dataframe thead th {\n",
       "        text-align: right;\n",
       "    }\n",
       "</style>\n",
       "<table border=\"1\" class=\"dataframe\">\n",
       "  <thead>\n",
       "    <tr style=\"text-align: right;\">\n",
       "      <th></th>\n",
       "      <th>Year</th>\n",
       "      <th>Month</th>\n",
       "      <th>Day</th>\n",
       "      <th>hour</th>\n",
       "      <th>pressure</th>\n",
       "      <th>humidity</th>\n",
       "      <th>temperature</th>\n",
       "      <th>wind_direction</th>\n",
       "      <th>wind_speed</th>\n",
       "      <th>description</th>\n",
       "      <th>Origin</th>\n",
       "      <th>Flights</th>\n",
       "      <th>Dest</th>\n",
       "      <th>DepTime</th>\n",
       "      <th>DepDelay</th>\n",
       "      <th>DepDelayMinutes</th>\n",
       "      <th>DepDel15</th>\n",
       "      <th>CRSDepTime</th>\n",
       "      <th>Distance</th>\n",
       "      <th>DepartureDelayGroups</th>\n",
       "      <th>TaxiOut</th>\n",
       "      <th>TaxiIn</th>\n",
       "      <th>ArrTime</th>\n",
       "      <th>ArrDelay</th>\n",
       "      <th>Cancelled</th>\n",
       "      <th>Diverted</th>\n",
       "      <th>AirTime</th>\n",
       "      <th>Distance</th>\n",
       "      <th>CarrierDelay</th>\n",
       "      <th>WeatherDelay</th>\n",
       "      <th>NASDelay</th>\n",
       "      <th>SecurityDelay</th>\n",
       "      <th>LateAircraftDelay</th>\n",
       "      <th>CancellationCode</th>\n",
       "      <th>FlightNum</th>\n",
       "      <th>SchedDepartTime</th>\n",
       "    </tr>\n",
       "  </thead>\n",
       "  <tbody>\n",
       "    <tr>\n",
       "      <th>0</th>\n",
       "      <td>2015.0</td>\n",
       "      <td>1.0</td>\n",
       "      <td>1.0</td>\n",
       "      <td>5</td>\n",
       "      <td>1043.0</td>\n",
       "      <td>80.0</td>\n",
       "      <td>273.207333</td>\n",
       "      <td>317.0</td>\n",
       "      <td>1.0</td>\n",
       "      <td>few clouds</td>\n",
       "      <td>ATL</td>\n",
       "      <td>1.0</td>\n",
       "      <td>IAD</td>\n",
       "      <td>556.0</td>\n",
       "      <td>16.0</td>\n",
       "      <td>16.0</td>\n",
       "      <td>1.0</td>\n",
       "      <td>540</td>\n",
       "      <td>534.0</td>\n",
       "      <td>1.0</td>\n",
       "      <td>9.0</td>\n",
       "      <td>15.0</td>\n",
       "      <td>739.0</td>\n",
       "      <td>14.0</td>\n",
       "      <td>0.0</td>\n",
       "      <td>0.0</td>\n",
       "      <td>79.0</td>\n",
       "      <td>534.0</td>\n",
       "      <td>0.0</td>\n",
       "      <td>0.0</td>\n",
       "      <td>0.0</td>\n",
       "      <td>0.0</td>\n",
       "      <td>0.0</td>\n",
       "      <td>0</td>\n",
       "      <td>EV3268</td>\n",
       "      <td>540.0</td>\n",
       "    </tr>\n",
       "    <tr>\n",
       "      <th>1</th>\n",
       "      <td>2015.0</td>\n",
       "      <td>1.0</td>\n",
       "      <td>1.0</td>\n",
       "      <td>6</td>\n",
       "      <td>1043.0</td>\n",
       "      <td>80.0</td>\n",
       "      <td>272.990000</td>\n",
       "      <td>329.0</td>\n",
       "      <td>1.0</td>\n",
       "      <td>sky is clear</td>\n",
       "      <td>ATL</td>\n",
       "      <td>1.0</td>\n",
       "      <td>MIA</td>\n",
       "      <td>656.0</td>\n",
       "      <td>-4.0</td>\n",
       "      <td>0.0</td>\n",
       "      <td>0.0</td>\n",
       "      <td>700</td>\n",
       "      <td>594.0</td>\n",
       "      <td>-1.0</td>\n",
       "      <td>15.0</td>\n",
       "      <td>9.0</td>\n",
       "      <td>842.0</td>\n",
       "      <td>-10.0</td>\n",
       "      <td>0.0</td>\n",
       "      <td>0.0</td>\n",
       "      <td>82.0</td>\n",
       "      <td>594.0</td>\n",
       "      <td>0.0</td>\n",
       "      <td>0.0</td>\n",
       "      <td>0.0</td>\n",
       "      <td>0.0</td>\n",
       "      <td>0.0</td>\n",
       "      <td>0</td>\n",
       "      <td>AA17</td>\n",
       "      <td>660.0</td>\n",
       "    </tr>\n",
       "    <tr>\n",
       "      <th>2</th>\n",
       "      <td>2015.0</td>\n",
       "      <td>1.0</td>\n",
       "      <td>1.0</td>\n",
       "      <td>6</td>\n",
       "      <td>1043.0</td>\n",
       "      <td>80.0</td>\n",
       "      <td>272.990000</td>\n",
       "      <td>329.0</td>\n",
       "      <td>1.0</td>\n",
       "      <td>sky is clear</td>\n",
       "      <td>ATL</td>\n",
       "      <td>1.0</td>\n",
       "      <td>LGA</td>\n",
       "      <td>644.0</td>\n",
       "      <td>-1.0</td>\n",
       "      <td>0.0</td>\n",
       "      <td>0.0</td>\n",
       "      <td>645</td>\n",
       "      <td>762.0</td>\n",
       "      <td>-1.0</td>\n",
       "      <td>31.0</td>\n",
       "      <td>9.0</td>\n",
       "      <td>901.0</td>\n",
       "      <td>8.0</td>\n",
       "      <td>0.0</td>\n",
       "      <td>0.0</td>\n",
       "      <td>97.0</td>\n",
       "      <td>762.0</td>\n",
       "      <td>0.0</td>\n",
       "      <td>0.0</td>\n",
       "      <td>0.0</td>\n",
       "      <td>0.0</td>\n",
       "      <td>0.0</td>\n",
       "      <td>0</td>\n",
       "      <td>DL886</td>\n",
       "      <td>645.0</td>\n",
       "    </tr>\n",
       "    <tr>\n",
       "      <th>3</th>\n",
       "      <td>2015.0</td>\n",
       "      <td>1.0</td>\n",
       "      <td>1.0</td>\n",
       "      <td>6</td>\n",
       "      <td>1043.0</td>\n",
       "      <td>80.0</td>\n",
       "      <td>272.990000</td>\n",
       "      <td>329.0</td>\n",
       "      <td>1.0</td>\n",
       "      <td>sky is clear</td>\n",
       "      <td>ATL</td>\n",
       "      <td>1.0</td>\n",
       "      <td>MCO</td>\n",
       "      <td>654.0</td>\n",
       "      <td>-1.0</td>\n",
       "      <td>0.0</td>\n",
       "      <td>0.0</td>\n",
       "      <td>655</td>\n",
       "      <td>404.0</td>\n",
       "      <td>-1.0</td>\n",
       "      <td>14.0</td>\n",
       "      <td>8.0</td>\n",
       "      <td>815.0</td>\n",
       "      <td>-7.0</td>\n",
       "      <td>0.0</td>\n",
       "      <td>0.0</td>\n",
       "      <td>59.0</td>\n",
       "      <td>404.0</td>\n",
       "      <td>0.0</td>\n",
       "      <td>0.0</td>\n",
       "      <td>0.0</td>\n",
       "      <td>0.0</td>\n",
       "      <td>0.0</td>\n",
       "      <td>0</td>\n",
       "      <td>DL1818</td>\n",
       "      <td>655.0</td>\n",
       "    </tr>\n",
       "    <tr>\n",
       "      <th>4</th>\n",
       "      <td>2015.0</td>\n",
       "      <td>1.0</td>\n",
       "      <td>1.0</td>\n",
       "      <td>6</td>\n",
       "      <td>1043.0</td>\n",
       "      <td>80.0</td>\n",
       "      <td>272.990000</td>\n",
       "      <td>329.0</td>\n",
       "      <td>1.0</td>\n",
       "      <td>sky is clear</td>\n",
       "      <td>ATL</td>\n",
       "      <td>1.0</td>\n",
       "      <td>CLT</td>\n",
       "      <td>658.0</td>\n",
       "      <td>-2.0</td>\n",
       "      <td>0.0</td>\n",
       "      <td>0.0</td>\n",
       "      <td>700</td>\n",
       "      <td>226.0</td>\n",
       "      <td>-1.0</td>\n",
       "      <td>15.0</td>\n",
       "      <td>10.0</td>\n",
       "      <td>801.0</td>\n",
       "      <td>-11.0</td>\n",
       "      <td>0.0</td>\n",
       "      <td>0.0</td>\n",
       "      <td>38.0</td>\n",
       "      <td>226.0</td>\n",
       "      <td>0.0</td>\n",
       "      <td>0.0</td>\n",
       "      <td>0.0</td>\n",
       "      <td>0.0</td>\n",
       "      <td>0.0</td>\n",
       "      <td>0</td>\n",
       "      <td>US461</td>\n",
       "      <td>660.0</td>\n",
       "    </tr>\n",
       "  </tbody>\n",
       "</table>\n",
       "</div>"
      ],
      "text/plain": [
       "     Year  Month  Day  hour  pressure  humidity  temperature  wind_direction  \\\n",
       "0  2015.0    1.0  1.0     5    1043.0      80.0   273.207333           317.0   \n",
       "1  2015.0    1.0  1.0     6    1043.0      80.0   272.990000           329.0   \n",
       "2  2015.0    1.0  1.0     6    1043.0      80.0   272.990000           329.0   \n",
       "3  2015.0    1.0  1.0     6    1043.0      80.0   272.990000           329.0   \n",
       "4  2015.0    1.0  1.0     6    1043.0      80.0   272.990000           329.0   \n",
       "\n",
       "   wind_speed   description Origin  Flights Dest  DepTime  DepDelay  \\\n",
       "0         1.0    few clouds    ATL      1.0  IAD    556.0      16.0   \n",
       "1         1.0  sky is clear    ATL      1.0  MIA    656.0      -4.0   \n",
       "2         1.0  sky is clear    ATL      1.0  LGA    644.0      -1.0   \n",
       "3         1.0  sky is clear    ATL      1.0  MCO    654.0      -1.0   \n",
       "4         1.0  sky is clear    ATL      1.0  CLT    658.0      -2.0   \n",
       "\n",
       "   DepDelayMinutes  DepDel15  CRSDepTime  Distance  DepartureDelayGroups  \\\n",
       "0             16.0       1.0         540     534.0                   1.0   \n",
       "1              0.0       0.0         700     594.0                  -1.0   \n",
       "2              0.0       0.0         645     762.0                  -1.0   \n",
       "3              0.0       0.0         655     404.0                  -1.0   \n",
       "4              0.0       0.0         700     226.0                  -1.0   \n",
       "\n",
       "   TaxiOut  TaxiIn  ArrTime  ArrDelay  Cancelled  Diverted  AirTime  Distance  \\\n",
       "0      9.0    15.0    739.0      14.0        0.0       0.0     79.0     534.0   \n",
       "1     15.0     9.0    842.0     -10.0        0.0       0.0     82.0     594.0   \n",
       "2     31.0     9.0    901.0       8.0        0.0       0.0     97.0     762.0   \n",
       "3     14.0     8.0    815.0      -7.0        0.0       0.0     59.0     404.0   \n",
       "4     15.0    10.0    801.0     -11.0        0.0       0.0     38.0     226.0   \n",
       "\n",
       "   CarrierDelay  WeatherDelay  NASDelay  SecurityDelay  LateAircraftDelay  \\\n",
       "0           0.0           0.0       0.0            0.0                0.0   \n",
       "1           0.0           0.0       0.0            0.0                0.0   \n",
       "2           0.0           0.0       0.0            0.0                0.0   \n",
       "3           0.0           0.0       0.0            0.0                0.0   \n",
       "4           0.0           0.0       0.0            0.0                0.0   \n",
       "\n",
       "   CancellationCode FlightNum  SchedDepartTime  \n",
       "0                 0    EV3268            540.0  \n",
       "1                 0      AA17            660.0  \n",
       "2                 0     DL886            645.0  \n",
       "3                 0    DL1818            655.0  \n",
       "4                 0     US461            660.0  "
      ]
     },
     "execution_count": 3,
     "metadata": {},
     "output_type": "execute_result"
    }
   ],
   "source": [
    "df = pd.read_pickle(\"./dataframe.pkl\")\n",
    "df.head() # shape = (278220, 35)"
   ]
  },
  {
   "cell_type": "markdown",
   "metadata": {},
   "source": [
    "# EDA (Exploratory Data Analysis"
   ]
  },
  {
   "cell_type": "code",
   "execution_count": 4,
   "metadata": {
    "ExecuteTime": {
     "end_time": "2019-02-14T21:00:01.807535Z",
     "start_time": "2019-02-14T21:00:00.655806Z"
    }
   },
   "outputs": [],
   "source": [
    "import numpy as np\n",
    "import seaborn as sns\n",
    "import matplotlib.pyplot as plt"
   ]
  },
  {
   "cell_type": "code",
   "execution_count": 5,
   "metadata": {
    "ExecuteTime": {
     "end_time": "2019-02-14T21:00:03.579920Z",
     "start_time": "2019-02-14T21:00:02.605054Z"
    }
   },
   "outputs": [
    {
     "data": {
      "text/html": [
       "<div>\n",
       "<style scoped>\n",
       "    .dataframe tbody tr th:only-of-type {\n",
       "        vertical-align: middle;\n",
       "    }\n",
       "\n",
       "    .dataframe tbody tr th {\n",
       "        vertical-align: top;\n",
       "    }\n",
       "\n",
       "    .dataframe thead th {\n",
       "        text-align: right;\n",
       "    }\n",
       "</style>\n",
       "<table border=\"1\" class=\"dataframe\">\n",
       "  <thead>\n",
       "    <tr style=\"text-align: right;\">\n",
       "      <th></th>\n",
       "      <th>Year</th>\n",
       "      <th>Month</th>\n",
       "      <th>Day</th>\n",
       "      <th>hour</th>\n",
       "      <th>pressure</th>\n",
       "      <th>humidity</th>\n",
       "      <th>temperature</th>\n",
       "      <th>wind_direction</th>\n",
       "      <th>wind_speed</th>\n",
       "      <th>Flights</th>\n",
       "      <th>DepTime</th>\n",
       "      <th>DepDelay</th>\n",
       "      <th>DepDelayMinutes</th>\n",
       "      <th>DepDel15</th>\n",
       "      <th>CRSDepTime</th>\n",
       "      <th>Distance</th>\n",
       "      <th>DepartureDelayGroups</th>\n",
       "      <th>TaxiOut</th>\n",
       "      <th>TaxiIn</th>\n",
       "      <th>ArrTime</th>\n",
       "      <th>ArrDelay</th>\n",
       "      <th>Cancelled</th>\n",
       "      <th>Diverted</th>\n",
       "      <th>AirTime</th>\n",
       "      <th>Distance</th>\n",
       "      <th>CarrierDelay</th>\n",
       "      <th>WeatherDelay</th>\n",
       "      <th>NASDelay</th>\n",
       "      <th>SecurityDelay</th>\n",
       "      <th>LateAircraftDelay</th>\n",
       "      <th>CancellationCode</th>\n",
       "      <th>SchedDepartTime</th>\n",
       "    </tr>\n",
       "  </thead>\n",
       "  <tbody>\n",
       "    <tr>\n",
       "      <th>count</th>\n",
       "      <td>278220.000000</td>\n",
       "      <td>278220.0</td>\n",
       "      <td>278220.000000</td>\n",
       "      <td>278220.000000</td>\n",
       "      <td>278220.000000</td>\n",
       "      <td>278220.000000</td>\n",
       "      <td>278220.000000</td>\n",
       "      <td>278220.000000</td>\n",
       "      <td>278220.00000</td>\n",
       "      <td>278220.0</td>\n",
       "      <td>278220.000000</td>\n",
       "      <td>278220.000000</td>\n",
       "      <td>278220.000000</td>\n",
       "      <td>278220.000000</td>\n",
       "      <td>278220.000000</td>\n",
       "      <td>278220.000000</td>\n",
       "      <td>278220.000000</td>\n",
       "      <td>278220.000000</td>\n",
       "      <td>278220.000000</td>\n",
       "      <td>278220.000000</td>\n",
       "      <td>278220.000000</td>\n",
       "      <td>278220.0</td>\n",
       "      <td>278220.0</td>\n",
       "      <td>278220.000000</td>\n",
       "      <td>278220.000000</td>\n",
       "      <td>278220.00000</td>\n",
       "      <td>278220.000000</td>\n",
       "      <td>278220.000000</td>\n",
       "      <td>278220.000000</td>\n",
       "      <td>278220.000000</td>\n",
       "      <td>278220.0</td>\n",
       "      <td>278220.000000</td>\n",
       "    </tr>\n",
       "    <tr>\n",
       "      <th>mean</th>\n",
       "      <td>2015.957994</td>\n",
       "      <td>1.0</td>\n",
       "      <td>15.931015</td>\n",
       "      <td>13.916016</td>\n",
       "      <td>1025.617576</td>\n",
       "      <td>72.054471</td>\n",
       "      <td>275.979320</td>\n",
       "      <td>206.183143</td>\n",
       "      <td>3.25739</td>\n",
       "      <td>1.0</td>\n",
       "      <td>1421.445942</td>\n",
       "      <td>10.995881</td>\n",
       "      <td>13.283481</td>\n",
       "      <td>0.206613</td>\n",
       "      <td>1413.458759</td>\n",
       "      <td>754.628938</td>\n",
       "      <td>0.128064</td>\n",
       "      <td>17.585432</td>\n",
       "      <td>6.523618</td>\n",
       "      <td>1557.973722</td>\n",
       "      <td>6.275713</td>\n",
       "      <td>0.0</td>\n",
       "      <td>0.0</td>\n",
       "      <td>105.129534</td>\n",
       "      <td>754.628938</td>\n",
       "      <td>4.61010</td>\n",
       "      <td>1.001610</td>\n",
       "      <td>2.678610</td>\n",
       "      <td>0.009241</td>\n",
       "      <td>4.101190</td>\n",
       "      <td>0.0</td>\n",
       "      <td>1410.450061</td>\n",
       "    </tr>\n",
       "    <tr>\n",
       "      <th>std</th>\n",
       "      <td>0.821882</td>\n",
       "      <td>0.0</td>\n",
       "      <td>8.945811</td>\n",
       "      <td>4.728736</td>\n",
       "      <td>12.398161</td>\n",
       "      <td>21.482904</td>\n",
       "      <td>8.169222</td>\n",
       "      <td>97.990074</td>\n",
       "      <td>2.12269</td>\n",
       "      <td>0.0</td>\n",
       "      <td>471.904927</td>\n",
       "      <td>38.254220</td>\n",
       "      <td>37.345060</td>\n",
       "      <td>0.404876</td>\n",
       "      <td>460.127141</td>\n",
       "      <td>482.384654</td>\n",
       "      <td>2.116769</td>\n",
       "      <td>8.914018</td>\n",
       "      <td>5.134471</td>\n",
       "      <td>512.085840</td>\n",
       "      <td>41.217194</td>\n",
       "      <td>0.0</td>\n",
       "      <td>0.0</td>\n",
       "      <td>60.657900</td>\n",
       "      <td>482.384654</td>\n",
       "      <td>23.53976</td>\n",
       "      <td>13.352123</td>\n",
       "      <td>12.565422</td>\n",
       "      <td>0.593218</td>\n",
       "      <td>19.550369</td>\n",
       "      <td>0.0</td>\n",
       "      <td>469.316295</td>\n",
       "    </tr>\n",
       "    <tr>\n",
       "      <th>min</th>\n",
       "      <td>2015.000000</td>\n",
       "      <td>1.0</td>\n",
       "      <td>1.000000</td>\n",
       "      <td>0.000000</td>\n",
       "      <td>943.000000</td>\n",
       "      <td>7.000000</td>\n",
       "      <td>250.470000</td>\n",
       "      <td>0.000000</td>\n",
       "      <td>0.00000</td>\n",
       "      <td>1.0</td>\n",
       "      <td>1.000000</td>\n",
       "      <td>-28.000000</td>\n",
       "      <td>0.000000</td>\n",
       "      <td>0.000000</td>\n",
       "      <td>1.000000</td>\n",
       "      <td>67.000000</td>\n",
       "      <td>-2.000000</td>\n",
       "      <td>1.000000</td>\n",
       "      <td>1.000000</td>\n",
       "      <td>1.000000</td>\n",
       "      <td>-68.000000</td>\n",
       "      <td>0.0</td>\n",
       "      <td>0.0</td>\n",
       "      <td>13.000000</td>\n",
       "      <td>67.000000</td>\n",
       "      <td>0.00000</td>\n",
       "      <td>0.000000</td>\n",
       "      <td>0.000000</td>\n",
       "      <td>0.000000</td>\n",
       "      <td>0.000000</td>\n",
       "      <td>0.0</td>\n",
       "      <td>-1095.000000</td>\n",
       "    </tr>\n",
       "    <tr>\n",
       "      <th>25%</th>\n",
       "      <td>2015.000000</td>\n",
       "      <td>1.0</td>\n",
       "      <td>8.000000</td>\n",
       "      <td>10.000000</td>\n",
       "      <td>1017.000000</td>\n",
       "      <td>56.000000</td>\n",
       "      <td>270.771697</td>\n",
       "      <td>130.000000</td>\n",
       "      <td>2.00000</td>\n",
       "      <td>1.0</td>\n",
       "      <td>1026.000000</td>\n",
       "      <td>-4.000000</td>\n",
       "      <td>0.000000</td>\n",
       "      <td>0.000000</td>\n",
       "      <td>1020.000000</td>\n",
       "      <td>416.000000</td>\n",
       "      <td>-1.000000</td>\n",
       "      <td>12.000000</td>\n",
       "      <td>4.000000</td>\n",
       "      <td>1207.000000</td>\n",
       "      <td>-13.000000</td>\n",
       "      <td>0.0</td>\n",
       "      <td>0.0</td>\n",
       "      <td>64.000000</td>\n",
       "      <td>416.000000</td>\n",
       "      <td>0.00000</td>\n",
       "      <td>0.000000</td>\n",
       "      <td>0.000000</td>\n",
       "      <td>0.000000</td>\n",
       "      <td>0.000000</td>\n",
       "      <td>0.0</td>\n",
       "      <td>1020.000000</td>\n",
       "    </tr>\n",
       "    <tr>\n",
       "      <th>50%</th>\n",
       "      <td>2016.000000</td>\n",
       "      <td>1.0</td>\n",
       "      <td>16.000000</td>\n",
       "      <td>14.000000</td>\n",
       "      <td>1025.000000</td>\n",
       "      <td>74.000000</td>\n",
       "      <td>275.871500</td>\n",
       "      <td>220.000000</td>\n",
       "      <td>3.00000</td>\n",
       "      <td>1.0</td>\n",
       "      <td>1423.000000</td>\n",
       "      <td>-1.000000</td>\n",
       "      <td>0.000000</td>\n",
       "      <td>0.000000</td>\n",
       "      <td>1415.000000</td>\n",
       "      <td>641.000000</td>\n",
       "      <td>-1.000000</td>\n",
       "      <td>15.000000</td>\n",
       "      <td>5.000000</td>\n",
       "      <td>1603.000000</td>\n",
       "      <td>-4.000000</td>\n",
       "      <td>0.0</td>\n",
       "      <td>0.0</td>\n",
       "      <td>92.000000</td>\n",
       "      <td>641.000000</td>\n",
       "      <td>0.00000</td>\n",
       "      <td>0.000000</td>\n",
       "      <td>0.000000</td>\n",
       "      <td>0.000000</td>\n",
       "      <td>0.000000</td>\n",
       "      <td>0.0</td>\n",
       "      <td>1415.000000</td>\n",
       "    </tr>\n",
       "    <tr>\n",
       "      <th>75%</th>\n",
       "      <td>2017.000000</td>\n",
       "      <td>1.0</td>\n",
       "      <td>24.000000</td>\n",
       "      <td>18.000000</td>\n",
       "      <td>1035.000000</td>\n",
       "      <td>92.000000</td>\n",
       "      <td>281.410000</td>\n",
       "      <td>290.000000</td>\n",
       "      <td>4.00000</td>\n",
       "      <td>1.0</td>\n",
       "      <td>1827.000000</td>\n",
       "      <td>10.000000</td>\n",
       "      <td>10.000000</td>\n",
       "      <td>0.000000</td>\n",
       "      <td>1815.000000</td>\n",
       "      <td>946.000000</td>\n",
       "      <td>0.000000</td>\n",
       "      <td>20.000000</td>\n",
       "      <td>7.000000</td>\n",
       "      <td>2004.000000</td>\n",
       "      <td>10.000000</td>\n",
       "      <td>0.0</td>\n",
       "      <td>0.0</td>\n",
       "      <td>130.000000</td>\n",
       "      <td>946.000000</td>\n",
       "      <td>0.00000</td>\n",
       "      <td>0.000000</td>\n",
       "      <td>0.000000</td>\n",
       "      <td>0.000000</td>\n",
       "      <td>0.000000</td>\n",
       "      <td>0.0</td>\n",
       "      <td>1815.000000</td>\n",
       "    </tr>\n",
       "    <tr>\n",
       "      <th>max</th>\n",
       "      <td>2017.000000</td>\n",
       "      <td>1.0</td>\n",
       "      <td>31.000000</td>\n",
       "      <td>23.000000</td>\n",
       "      <td>1064.000000</td>\n",
       "      <td>100.000000</td>\n",
       "      <td>300.490000</td>\n",
       "      <td>360.000000</td>\n",
       "      <td>17.00000</td>\n",
       "      <td>1.0</td>\n",
       "      <td>2359.000000</td>\n",
       "      <td>1470.000000</td>\n",
       "      <td>1470.000000</td>\n",
       "      <td>1.000000</td>\n",
       "      <td>2359.000000</td>\n",
       "      <td>4502.000000</td>\n",
       "      <td>12.000000</td>\n",
       "      <td>176.000000</td>\n",
       "      <td>344.000000</td>\n",
       "      <td>2400.000000</td>\n",
       "      <td>1455.000000</td>\n",
       "      <td>0.0</td>\n",
       "      <td>0.0</td>\n",
       "      <td>615.000000</td>\n",
       "      <td>4502.000000</td>\n",
       "      <td>1217.00000</td>\n",
       "      <td>1329.000000</td>\n",
       "      <td>834.000000</td>\n",
       "      <td>123.000000</td>\n",
       "      <td>1175.000000</td>\n",
       "      <td>0.0</td>\n",
       "      <td>2370.000000</td>\n",
       "    </tr>\n",
       "  </tbody>\n",
       "</table>\n",
       "</div>"
      ],
      "text/plain": [
       "                Year     Month            Day           hour       pressure  \\\n",
       "count  278220.000000  278220.0  278220.000000  278220.000000  278220.000000   \n",
       "mean     2015.957994       1.0      15.931015      13.916016    1025.617576   \n",
       "std         0.821882       0.0       8.945811       4.728736      12.398161   \n",
       "min      2015.000000       1.0       1.000000       0.000000     943.000000   \n",
       "25%      2015.000000       1.0       8.000000      10.000000    1017.000000   \n",
       "50%      2016.000000       1.0      16.000000      14.000000    1025.000000   \n",
       "75%      2017.000000       1.0      24.000000      18.000000    1035.000000   \n",
       "max      2017.000000       1.0      31.000000      23.000000    1064.000000   \n",
       "\n",
       "            humidity    temperature  wind_direction    wind_speed   Flights  \\\n",
       "count  278220.000000  278220.000000   278220.000000  278220.00000  278220.0   \n",
       "mean       72.054471     275.979320      206.183143       3.25739       1.0   \n",
       "std        21.482904       8.169222       97.990074       2.12269       0.0   \n",
       "min         7.000000     250.470000        0.000000       0.00000       1.0   \n",
       "25%        56.000000     270.771697      130.000000       2.00000       1.0   \n",
       "50%        74.000000     275.871500      220.000000       3.00000       1.0   \n",
       "75%        92.000000     281.410000      290.000000       4.00000       1.0   \n",
       "max       100.000000     300.490000      360.000000      17.00000       1.0   \n",
       "\n",
       "             DepTime       DepDelay  DepDelayMinutes       DepDel15  \\\n",
       "count  278220.000000  278220.000000    278220.000000  278220.000000   \n",
       "mean     1421.445942      10.995881        13.283481       0.206613   \n",
       "std       471.904927      38.254220        37.345060       0.404876   \n",
       "min         1.000000     -28.000000         0.000000       0.000000   \n",
       "25%      1026.000000      -4.000000         0.000000       0.000000   \n",
       "50%      1423.000000      -1.000000         0.000000       0.000000   \n",
       "75%      1827.000000      10.000000        10.000000       0.000000   \n",
       "max      2359.000000    1470.000000      1470.000000       1.000000   \n",
       "\n",
       "          CRSDepTime       Distance  DepartureDelayGroups        TaxiOut  \\\n",
       "count  278220.000000  278220.000000         278220.000000  278220.000000   \n",
       "mean     1413.458759     754.628938              0.128064      17.585432   \n",
       "std       460.127141     482.384654              2.116769       8.914018   \n",
       "min         1.000000      67.000000             -2.000000       1.000000   \n",
       "25%      1020.000000     416.000000             -1.000000      12.000000   \n",
       "50%      1415.000000     641.000000             -1.000000      15.000000   \n",
       "75%      1815.000000     946.000000              0.000000      20.000000   \n",
       "max      2359.000000    4502.000000             12.000000     176.000000   \n",
       "\n",
       "              TaxiIn        ArrTime       ArrDelay  Cancelled  Diverted  \\\n",
       "count  278220.000000  278220.000000  278220.000000   278220.0  278220.0   \n",
       "mean        6.523618    1557.973722       6.275713        0.0       0.0   \n",
       "std         5.134471     512.085840      41.217194        0.0       0.0   \n",
       "min         1.000000       1.000000     -68.000000        0.0       0.0   \n",
       "25%         4.000000    1207.000000     -13.000000        0.0       0.0   \n",
       "50%         5.000000    1603.000000      -4.000000        0.0       0.0   \n",
       "75%         7.000000    2004.000000      10.000000        0.0       0.0   \n",
       "max       344.000000    2400.000000    1455.000000        0.0       0.0   \n",
       "\n",
       "             AirTime       Distance  CarrierDelay   WeatherDelay  \\\n",
       "count  278220.000000  278220.000000  278220.00000  278220.000000   \n",
       "mean      105.129534     754.628938       4.61010       1.001610   \n",
       "std        60.657900     482.384654      23.53976      13.352123   \n",
       "min        13.000000      67.000000       0.00000       0.000000   \n",
       "25%        64.000000     416.000000       0.00000       0.000000   \n",
       "50%        92.000000     641.000000       0.00000       0.000000   \n",
       "75%       130.000000     946.000000       0.00000       0.000000   \n",
       "max       615.000000    4502.000000    1217.00000    1329.000000   \n",
       "\n",
       "            NASDelay  SecurityDelay  LateAircraftDelay  CancellationCode  \\\n",
       "count  278220.000000  278220.000000      278220.000000          278220.0   \n",
       "mean        2.678610       0.009241           4.101190               0.0   \n",
       "std        12.565422       0.593218          19.550369               0.0   \n",
       "min         0.000000       0.000000           0.000000               0.0   \n",
       "25%         0.000000       0.000000           0.000000               0.0   \n",
       "50%         0.000000       0.000000           0.000000               0.0   \n",
       "75%         0.000000       0.000000           0.000000               0.0   \n",
       "max       834.000000     123.000000        1175.000000               0.0   \n",
       "\n",
       "       SchedDepartTime  \n",
       "count    278220.000000  \n",
       "mean       1410.450061  \n",
       "std         469.316295  \n",
       "min       -1095.000000  \n",
       "25%        1020.000000  \n",
       "50%        1415.000000  \n",
       "75%        1815.000000  \n",
       "max        2370.000000  "
      ]
     },
     "execution_count": 5,
     "metadata": {},
     "output_type": "execute_result"
    }
   ],
   "source": [
    "df.describe()\n",
    "# temperature is in Kelvin\n",
    "# Pressure"
   ]
  },
  {
   "cell_type": "markdown",
   "metadata": {},
   "source": [
    "From analyzing description, we realized we are just focusing on january"
   ]
  },
  {
   "cell_type": "markdown",
   "metadata": {},
   "source": [
    "### if there were time, we would explore all features, but there was no time, so we didn't."
   ]
  },
  {
   "cell_type": "markdown",
   "metadata": {},
   "source": [
    "## Explore weather data"
   ]
  },
  {
   "cell_type": "code",
   "execution_count": 6,
   "metadata": {
    "ExecuteTime": {
     "end_time": "2019-02-14T21:00:04.802818Z",
     "start_time": "2019-02-14T21:00:04.375966Z"
    }
   },
   "outputs": [
    {
     "data": {
      "image/png": "[encoded data removed]",
      "text/plain": [
       "<Figure size 432x288 with 1 Axes>"
      ]
     },
     "metadata": {
      "needs_background": "light"
     },
     "output_type": "display_data"
    }
   ],
   "source": [
    "sns.distplot(df.temperature, kde = False);\n",
    "# This looks like a normal distribution"
   ]
  },
  {
   "cell_type": "code",
   "execution_count": 7,
   "metadata": {
    "ExecuteTime": {
     "end_time": "2019-02-14T21:00:07.018885Z",
     "start_time": "2019-02-14T21:00:06.629566Z"
    }
   },
   "outputs": [
    {
     "data": {
      "image/png": "[encoded data removed]",
      "text/plain": [
       "<Figure size 432x288 with 1 Axes>"
      ]
     },
     "metadata": {
      "needs_background": "light"
     },
     "output_type": "display_data"
    }
   ],
   "source": [
    "sns.distplot(df.pressure, kde = False);\n",
    "# There are couple outliers we're just going to get rid of"
   ]
  },
  {
   "cell_type": "code",
   "execution_count": 8,
   "metadata": {
    "ExecuteTime": {
     "end_time": "2019-02-14T21:00:08.255261Z",
     "start_time": "2019-02-14T21:00:07.804665Z"
    }
   },
   "outputs": [
    {
     "data": {
      "image/png": "[encoded data removed]",
      "text/plain": [
       "<Figure size 432x288 with 1 Axes>"
      ]
     },
     "metadata": {
      "needs_background": "light"
     },
     "output_type": "display_data"
    }
   ],
   "source": [
    "sns.distplot(df.humidity, kde = True);\n",
    "# skewed "
   ]
  },
  {
   "cell_type": "code",
   "execution_count": 9,
   "metadata": {
    "ExecuteTime": {
     "end_time": "2019-02-14T21:00:09.071110Z",
     "start_time": "2019-02-14T21:00:09.067212Z"
    }
   },
   "outputs": [],
   "source": [
    "# correlation heatmaps\n",
    "# ensure data in each column makes sense\n",
    "# set up target"
   ]
  },
  {
   "cell_type": "markdown",
   "metadata": {},
   "source": [
    "## Prepare target and X variables"
   ]
  },
  {
   "cell_type": "code",
   "execution_count": 10,
   "metadata": {
    "ExecuteTime": {
     "end_time": "2019-02-14T21:00:09.844380Z",
     "start_time": "2019-02-14T21:00:09.801775Z"
    }
   },
   "outputs": [],
   "source": [
    "y =df.loc[:,'DepDelay']\n",
    "X =df.loc[:, df.columns != 'DepDelay']"
   ]
  },
  {
   "cell_type": "code",
   "execution_count": 11,
   "metadata": {
    "ExecuteTime": {
     "end_time": "2019-02-14T21:00:11.911211Z",
     "start_time": "2019-02-14T21:00:11.902371Z"
    }
   },
   "outputs": [
    {
     "data": {
      "text/plain": [
       "Year                    float64\n",
       "Month                   float64\n",
       "Day                     float64\n",
       "hour                      int64\n",
       "pressure                float64\n",
       "humidity                float64\n",
       "temperature             float64\n",
       "wind_direction          float64\n",
       "wind_speed              float64\n",
       "description              object\n",
       "Origin                   object\n",
       "Flights                 float64\n",
       "Dest                     object\n",
       "DepTime                 float64\n",
       "DepDelayMinutes         float64\n",
       "DepDel15                float64\n",
       "CRSDepTime                int64\n",
       "Distance                float64\n",
       "DepartureDelayGroups    float64\n",
       "TaxiOut                 float64\n",
       "TaxiIn                  float64\n",
       "ArrTime                 float64\n",
       "ArrDelay                float64\n",
       "Cancelled               float64\n",
       "Diverted                float64\n",
       "AirTime                 float64\n",
       "Distance                float64\n",
       "CarrierDelay            float64\n",
       "WeatherDelay            float64\n",
       "NASDelay                float64\n",
       "SecurityDelay           float64\n",
       "LateAircraftDelay       float64\n",
       "CancellationCode          int64\n",
       "FlightNum                object\n",
       "SchedDepartTime         float64\n",
       "dtype: object"
      ]
     },
     "execution_count": 11,
     "metadata": {},
     "output_type": "execute_result"
    }
   ],
   "source": [
    "y.dtype # dtype('float64')\n",
    "X.dtypes # description, Origin, Dest, FlightNum are objects. Need to label encode them\n",
    "\n",
    "\n"
   ]
  },
  {
   "cell_type": "code",
   "execution_count": 12,
   "metadata": {
    "ExecuteTime": {
     "end_time": "2019-02-14T21:01:26.519769Z",
     "start_time": "2019-02-14T21:01:24.921480Z"
    }
   },
   "outputs": [
    {
     "name": "stderr",
     "output_type": "stream",
     "text": [
      "/Users/powersky/anaconda3/lib/python3.6/site-packages/ipykernel_launcher.py:9: SettingWithCopyWarning: \n",
      "A value is trying to be set on a copy of a slice from a DataFrame.\n",
      "Try using .loc[row_indexer,col_indexer] = value instead\n",
      "\n",
      "See the caveats in the documentation: http://pandas.pydata.org/pandas-docs/stable/indexing.html#indexing-view-versus-copy\n",
      "  if __name__ == '__main__':\n"
     ]
    },
    {
     "data": {
      "text/plain": [
       "Year                    float64\n",
       "Month                   float64\n",
       "Day                     float64\n",
       "hour                      int64\n",
       "pressure                float64\n",
       "humidity                float64\n",
       "temperature             float64\n",
       "wind_direction          float64\n",
       "wind_speed              float64\n",
       "description               int64\n",
       "Origin                    int64\n",
       "Flights                 float64\n",
       "Dest                      int64\n",
       "DepTime                 float64\n",
       "DepDelayMinutes         float64\n",
       "DepDel15                float64\n",
       "CRSDepTime                int64\n",
       "Distance                float64\n",
       "DepartureDelayGroups    float64\n",
       "TaxiOut                 float64\n",
       "TaxiIn                  float64\n",
       "ArrTime                 float64\n",
       "ArrDelay                float64\n",
       "Cancelled               float64\n",
       "Diverted                float64\n",
       "AirTime                 float64\n",
       "Distance                float64\n",
       "CarrierDelay            float64\n",
       "WeatherDelay            float64\n",
       "NASDelay                float64\n",
       "SecurityDelay           float64\n",
       "LateAircraftDelay       float64\n",
       "CancellationCode          int64\n",
       "FlightNum                 int64\n",
       "SchedDepartTime         float64\n",
       "dtype: object"
      ]
     },
     "execution_count": 12,
     "metadata": {},
     "output_type": "execute_result"
    }
   ],
   "source": [
    "# Had to transform object data into categories\n",
    "from sklearn import preprocessing\n",
    "\n",
    "le = preprocessing.LabelEncoder()\n",
    "categorize = ['Origin','Dest','description','FlightNum']\n",
    "for category in categorize:\n",
    "    le.fit(X[category])\n",
    "    new = le.transform(X[category])\n",
    "    X[category] = new\n",
    "X.dtypes"
   ]
  },
  {
   "cell_type": "markdown",
   "metadata": {},
   "source": [
    "# Model"
   ]
  },
  {
   "cell_type": "markdown",
   "metadata": {},
   "source": [
    "### Try Logistic Regression"
   ]
  },
  {
   "cell_type": "code",
   "execution_count": 13,
   "metadata": {
    "ExecuteTime": {
     "end_time": "2019-02-14T21:01:33.683633Z",
     "start_time": "2019-02-14T21:01:33.533416Z"
    }
   },
   "outputs": [],
   "source": [
    "from sklearn.model_selection import train_test_split\n",
    "from sklearn.linear_model import LogisticRegression\n",
    "from sklearn.metrics import confusion_matrix\n",
    "from sklearn.metrics import precision_score, recall_score, accuracy_score, f1_score\n",
    "from sklearn.metrics import roc_curve, auc\n",
    "from sklearn.metrics import classification_report"
   ]
  },
  {
   "cell_type": "code",
   "execution_count": null,
   "metadata": {
    "ExecuteTime": {
     "start_time": "2019-02-14T21:01:34.066Z"
    }
   },
   "outputs": [
    {
     "name": "stderr",
     "output_type": "stream",
     "text": [
      "/Users/powersky/anaconda3/lib/python3.6/site-packages/sklearn/linear_model/logistic.py:433: FutureWarning: Default solver will be changed to 'lbfgs' in 0.22. Specify a solver to silence this warning.\n",
      "  FutureWarning)\n",
      "/Users/powersky/anaconda3/lib/python3.6/site-packages/sklearn/linear_model/logistic.py:460: FutureWarning: Default multi_class will be changed to 'auto' in 0.22. Specify the multi_class option to silence this warning.\n",
      "  \"this warning.\", FutureWarning)\n"
     ]
    }
   ],
   "source": [
    "# Split the data into train and test sets.\n",
    "X_train, X_test, y_train, y_test = train_test_split(X, y, random_state=0)\n",
    "#Fit a model\n",
    "logreg = LogisticRegression(fit_intercept = False, C = 1e12) #Starter code\n",
    "model_log = logreg.fit(X_train, y_train)\n",
    "print(model_log) #Preview model params\n",
    "\n",
    "#Predict\n",
    "y_hat_train = logreg.predict(X_train)\n",
    "y_hat_test = logreg.predict(X_test)"
   ]
  },
  {
   "cell_type": "code",
   "execution_count": null,
   "metadata": {},
   "outputs": [],
   "source": [
    "cm_matrix_test = confusion_matrix(y_hat_test, y_test)\n",
    "cm_matrix_train = confusion_matrix(y_hat_train, y_train)\n",
    "print('Confusion Matrix:\\n',cnf_matrix)"
   ]
  },
  {
   "cell_type": "code",
   "execution_count": null,
   "metadata": {},
   "outputs": [],
   "source": [
    "from sklearn.metrics import precision_score, recall_score, accuracy_score, f1_score"
   ]
  },
  {
   "cell_type": "code",
   "execution_count": null,
   "metadata": {},
   "outputs": [],
   "source": [
    "acc"
   ]
  }
 ],
 "metadata": {
  "kernelspec": {
   "display_name": "Python 3",
   "language": "python",
   "name": "python3"
  },
  "language_info": {
   "codemirror_mode": {
    "name": "ipython",
    "version": 3
   },
   "file_extension": ".py",
   "mimetype": "text/x-python",
   "name": "python",
   "nbconvert_exporter": "python",
   "pygments_lexer": "ipython3",
   "version": "3.6.8"
  },
  "toc": {
   "base_numbering": 1,
   "nav_menu": {},
   "number_sections": true,
   "sideBar": true,
   "skip_h1_title": false,
   "title_cell": "Table of Contents",
   "title_sidebar": "Contents",
   "toc_cell": false,
   "toc_position": {},
   "toc_section_display": true,
   "toc_window_display": false
  },
  "varInspector": {
   "cols": {
    "lenName": 16,
    "lenType": 16,
    "lenVar": 40
   },
   "kernels_config": {
    "python": {
     "delete_cmd_postfix": "",
     "delete_cmd_prefix": "del ",
     "library": "var_list.py",
     "varRefreshCmd": "print(var_dic_list())"
    },
    "r": {
     "delete_cmd_postfix": ") ",
     "delete_cmd_prefix": "rm(",
     "library": "var_list.r",
     "varRefreshCmd": "cat(var_dic_list()) "
    }
   },
   "types_to_exclude": [
    "module",
    "function",
    "builtin_function_or_method",
    "instance",
    "_Feature"
   ],
   "window_display": false
  }
 },
 "nbformat": 4,
 "nbformat_minor": 2
}
