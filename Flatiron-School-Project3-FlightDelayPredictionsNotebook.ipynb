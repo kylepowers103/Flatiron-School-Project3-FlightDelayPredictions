{
 "cells": [
  {
   "cell_type": "markdown",
   "metadata": {
    "toc-hr-collapsed": true
   },
   "source": [
    "# 1) Get Data"
   ]
  },
  {
   "cell_type": "code",
   "execution_count": 1,
   "metadata": {},
   "outputs": [
    {
     "name": "stdout",
     "output_type": "stream",
     "text": [
      "Requirement already satisfied: xgboost in /home/ec2-user/anaconda3/envs/tensorflow_p36/lib/python3.6/site-packages (0.81)\n",
      "Requirement already satisfied: scipy in /home/ec2-user/anaconda3/envs/tensorflow_p36/lib/python3.6/site-packages (from xgboost) (1.1.0)\n",
      "Requirement already satisfied: numpy in /home/ec2-user/anaconda3/envs/tensorflow_p36/lib/python3.6/site-packages (from xgboost) (1.14.5)\n",
      "\u001b[33mYou are using pip version 10.0.1, however version 19.0.3 is available.\n",
      "You should consider upgrading via the 'pip install --upgrade pip' command.\u001b[0m\n",
      "Requirement already satisfied: tabulate in /home/ec2-user/anaconda3/envs/tensorflow_p36/lib/python3.6/site-packages (0.8.3)\n",
      "\u001b[33mYou are using pip version 10.0.1, however version 19.0.3 is available.\n",
      "You should consider upgrading via the 'pip install --upgrade pip' command.\u001b[0m\n",
      "Requirement already satisfied: imblearn in /home/ec2-user/anaconda3/envs/tensorflow_p36/lib/python3.6/site-packages (0.0)\n",
      "Requirement already satisfied: imbalanced-learn in /home/ec2-user/anaconda3/envs/tensorflow_p36/lib/python3.6/site-packages (from imblearn) (0.4.3)\n",
      "Requirement already satisfied: scipy>=0.13.3 in /home/ec2-user/anaconda3/envs/tensorflow_p36/lib/python3.6/site-packages (from imbalanced-learn->imblearn) (1.1.0)\n",
      "Requirement already satisfied: numpy>=1.8.2 in /home/ec2-user/anaconda3/envs/tensorflow_p36/lib/python3.6/site-packages (from imbalanced-learn->imblearn) (1.14.5)\n",
      "Requirement already satisfied: scikit-learn>=0.20 in /home/ec2-user/anaconda3/envs/tensorflow_p36/lib/python3.6/site-packages (from imbalanced-learn->imblearn) (0.20.2)\n",
      "\u001b[33mYou are using pip version 10.0.1, however version 19.0.3 is available.\n",
      "You should consider upgrading via the 'pip install --upgrade pip' command.\u001b[0m\n"
     ]
    }
   ],
   "source": [
    "!pip install xgboost\n",
    "!pip install tabulate\n",
    "!pip install imblearn\n",
    "# # jupyter contrib nbextension install --user\n",
    "# !jupyter nbextension enable toc2/main\n",
    "# !jupyter labextension install @jupyterlab/toc"
   ]
  },
  {
   "cell_type": "code",
   "execution_count": 2,
   "metadata": {
    "ExecuteTime": {
     "end_time": "2019-01-13T23:54:32.325611Z",
     "start_time": "2019-01-13T23:54:32.307937Z"
    }
   },
   "outputs": [],
   "source": [
    "# %matplotlib inline\n",
    "from datetime import datetime\n",
    "from imblearn.over_sampling import SMOTE, ADASYN\n",
    "from IPython.core.pylabtools import figsize\n",
    "from matplotlib import pyplot as plt\n",
    "from scipy.stats import randint as sp_randint\n",
    "from sklearn import datasets\n",
    "from sklearn import linear_model, decomposition, datasets\n",
    "from sklearn import metrics\n",
    "from sklearn import preprocessing\n",
    "from sklearn import svm\n",
    "from sklearn.datasets import load_iris\n",
    "from sklearn.decomposition import PCA\n",
    "from sklearn.ensemble import RandomForestClassifier\n",
    "from sklearn.ensemble import RandomForestClassifier, GradientBoostingClassifier, AdaBoostClassifier\n",
    "from sklearn.ensemble import RandomForestRegressor, GradientBoostingRegressor\n",
    "from sklearn.externals import joblib\n",
    "from sklearn.feature_selection import VarianceThreshold\n",
    "from sklearn.linear_model import LinearRegression\n",
    "from sklearn.linear_model import LogisticRegression\n",
    "from sklearn.linear_model import SGDClassifier\n",
    "from sklearn.metrics import accuracy_score\n",
    "from sklearn.metrics import classification_report\n",
    "from sklearn.metrics import confusion_matrix\n",
    "from sklearn.metrics import confusion_matrix, accuracy_score, average_precision_score\n",
    "from sklearn.metrics import f1_score, precision_score, recall_score\n",
    "from sklearn.metrics import mean_squared_error, cohen_kappa_score, make_scorer\n",
    "from sklearn.metrics import precision_recall_curve, SCORERS\n",
    "from sklearn.metrics import precision_score, recall_score, accuracy_score, f1_score\n",
    "from sklearn.metrics import roc_auc_score, roc_curve, auc, classification_report\n",
    "from sklearn.metrics import roc_curve, auc\n",
    "from sklearn.mixture import GaussianMixture\n",
    "from sklearn.model_selection import cross_val_score, train_test_split\n",
    "from sklearn.model_selection import GridSearchCV\n",
    "from sklearn.model_selection import learning_curve\n",
    "from sklearn.model_selection import RandomizedSearchCV, GridSearchCV\n",
    "from sklearn.model_selection import ShuffleSplit\n",
    "from sklearn.model_selection import train_test_split\n",
    "from sklearn.multiclass import OneVsRestClassifier\n",
    "from sklearn.neighbors import KNeighborsRegressor\n",
    "from sklearn.pipeline import Pipeline\n",
    "from sklearn.preprocessing import Imputer, MinMaxScaler\n",
    "from sklearn.preprocessing import OneHotEncoder\n",
    "from sklearn.preprocessing import StandardScaler\n",
    "from sklearn.svm import SVC\n",
    "from sklearn.svm import SVR\n",
    "from sklearn.tree import DecisionTreeClassifier\n",
    "from tabulate import tabulate\n",
    "from xgboost import XGBClassifier\n",
    "import matplotlib\n",
    "import matplotlib.pyplot as plt\n",
    "import numpy as np\n",
    "import pandas as pd\n",
    "import pickle\n",
    "import seaborn as sns\n",
    "import sklearn\n",
    "import time\n",
    "import xgboost\n",
    "matplotlib.style.use('ggplot')\n",
    "pd.options.mode.chained_assignment = None\n",
    "plt.rcParams['font.size'] = 24\n",
    "scaler = preprocessing.StandardScaler()\n",
    "sns.set(font_scale = 2)\n",
    "\n",
    "pd.set_option('display.max_rows', 500)\n",
    "pd.set_option('display.max_columns', 40)"
   ]
  },
  {
   "cell_type": "code",
   "execution_count": 3,
   "metadata": {
    "ExecuteTime": {
     "end_time": "2019-01-14T00:00:43.506430Z",
     "start_time": "2019-01-14T00:00:41.268183Z"
    }
   },
   "outputs": [
    {
     "data": {
      "text/html": [
       "<div>\n",
       "<style scoped>\n",
       "    .dataframe tbody tr th:only-of-type {\n",
       "        vertical-align: middle;\n",
       "    }\n",
       "\n",
       "    .dataframe tbody tr th {\n",
       "        vertical-align: top;\n",
       "    }\n",
       "\n",
       "    .dataframe thead th {\n",
       "        text-align: right;\n",
       "    }\n",
       "</style>\n",
       "<table border=\"1\" class=\"dataframe\">\n",
       "  <thead>\n",
       "    <tr style=\"text-align: right;\">\n",
       "      <th></th>\n",
       "      <th>Year</th>\n",
       "      <th>Month</th>\n",
       "      <th>Day</th>\n",
       "      <th>hour</th>\n",
       "      <th>pressure</th>\n",
       "      <th>humidity</th>\n",
       "      <th>temperature</th>\n",
       "      <th>wind_direction</th>\n",
       "      <th>wind_speed</th>\n",
       "      <th>description</th>\n",
       "      <th>Origin</th>\n",
       "      <th>Flights</th>\n",
       "      <th>Dest</th>\n",
       "      <th>DepTime</th>\n",
       "      <th>DepDelay</th>\n",
       "      <th>DepDelayMinutes</th>\n",
       "      <th>DepDel15</th>\n",
       "      <th>CRSDepTime</th>\n",
       "      <th>Distance</th>\n",
       "      <th>DepartureDelayGroups</th>\n",
       "      <th>TaxiOut</th>\n",
       "      <th>TaxiIn</th>\n",
       "      <th>ArrTime</th>\n",
       "      <th>ArrDelay</th>\n",
       "      <th>Cancelled</th>\n",
       "      <th>Diverted</th>\n",
       "      <th>AirTime</th>\n",
       "      <th>Distance</th>\n",
       "      <th>CarrierDelay</th>\n",
       "      <th>WeatherDelay</th>\n",
       "      <th>NASDelay</th>\n",
       "      <th>SecurityDelay</th>\n",
       "      <th>LateAircraftDelay</th>\n",
       "      <th>CancellationCode</th>\n",
       "      <th>FlightNum</th>\n",
       "      <th>SchedDepartTime</th>\n",
       "    </tr>\n",
       "  </thead>\n",
       "  <tbody>\n",
       "    <tr>\n",
       "      <th>0</th>\n",
       "      <td>2015.0</td>\n",
       "      <td>1.0</td>\n",
       "      <td>1.0</td>\n",
       "      <td>5</td>\n",
       "      <td>1043.0</td>\n",
       "      <td>80.0</td>\n",
       "      <td>273.207333</td>\n",
       "      <td>317.0</td>\n",
       "      <td>1.0</td>\n",
       "      <td>few clouds</td>\n",
       "      <td>ATL</td>\n",
       "      <td>1.0</td>\n",
       "      <td>IAD</td>\n",
       "      <td>556.0</td>\n",
       "      <td>16.0</td>\n",
       "      <td>16.0</td>\n",
       "      <td>1.0</td>\n",
       "      <td>540</td>\n",
       "      <td>534.0</td>\n",
       "      <td>1.0</td>\n",
       "      <td>9.0</td>\n",
       "      <td>15.0</td>\n",
       "      <td>739.0</td>\n",
       "      <td>14.0</td>\n",
       "      <td>0.0</td>\n",
       "      <td>0.0</td>\n",
       "      <td>79.0</td>\n",
       "      <td>534.0</td>\n",
       "      <td>0.0</td>\n",
       "      <td>0.0</td>\n",
       "      <td>0.0</td>\n",
       "      <td>0.0</td>\n",
       "      <td>0.0</td>\n",
       "      <td>0</td>\n",
       "      <td>EV3268</td>\n",
       "      <td>540.0</td>\n",
       "    </tr>\n",
       "    <tr>\n",
       "      <th>1</th>\n",
       "      <td>2015.0</td>\n",
       "      <td>1.0</td>\n",
       "      <td>1.0</td>\n",
       "      <td>6</td>\n",
       "      <td>1043.0</td>\n",
       "      <td>80.0</td>\n",
       "      <td>272.990000</td>\n",
       "      <td>329.0</td>\n",
       "      <td>1.0</td>\n",
       "      <td>sky is clear</td>\n",
       "      <td>ATL</td>\n",
       "      <td>1.0</td>\n",
       "      <td>MIA</td>\n",
       "      <td>656.0</td>\n",
       "      <td>-4.0</td>\n",
       "      <td>0.0</td>\n",
       "      <td>0.0</td>\n",
       "      <td>700</td>\n",
       "      <td>594.0</td>\n",
       "      <td>-1.0</td>\n",
       "      <td>15.0</td>\n",
       "      <td>9.0</td>\n",
       "      <td>842.0</td>\n",
       "      <td>-10.0</td>\n",
       "      <td>0.0</td>\n",
       "      <td>0.0</td>\n",
       "      <td>82.0</td>\n",
       "      <td>594.0</td>\n",
       "      <td>0.0</td>\n",
       "      <td>0.0</td>\n",
       "      <td>0.0</td>\n",
       "      <td>0.0</td>\n",
       "      <td>0.0</td>\n",
       "      <td>0</td>\n",
       "      <td>AA17</td>\n",
       "      <td>660.0</td>\n",
       "    </tr>\n",
       "    <tr>\n",
       "      <th>2</th>\n",
       "      <td>2015.0</td>\n",
       "      <td>1.0</td>\n",
       "      <td>1.0</td>\n",
       "      <td>6</td>\n",
       "      <td>1043.0</td>\n",
       "      <td>80.0</td>\n",
       "      <td>272.990000</td>\n",
       "      <td>329.0</td>\n",
       "      <td>1.0</td>\n",
       "      <td>sky is clear</td>\n",
       "      <td>ATL</td>\n",
       "      <td>1.0</td>\n",
       "      <td>LGA</td>\n",
       "      <td>644.0</td>\n",
       "      <td>-1.0</td>\n",
       "      <td>0.0</td>\n",
       "      <td>0.0</td>\n",
       "      <td>645</td>\n",
       "      <td>762.0</td>\n",
       "      <td>-1.0</td>\n",
       "      <td>31.0</td>\n",
       "      <td>9.0</td>\n",
       "      <td>901.0</td>\n",
       "      <td>8.0</td>\n",
       "      <td>0.0</td>\n",
       "      <td>0.0</td>\n",
       "      <td>97.0</td>\n",
       "      <td>762.0</td>\n",
       "      <td>0.0</td>\n",
       "      <td>0.0</td>\n",
       "      <td>0.0</td>\n",
       "      <td>0.0</td>\n",
       "      <td>0.0</td>\n",
       "      <td>0</td>\n",
       "      <td>DL886</td>\n",
       "      <td>645.0</td>\n",
       "    </tr>\n",
       "    <tr>\n",
       "      <th>3</th>\n",
       "      <td>2015.0</td>\n",
       "      <td>1.0</td>\n",
       "      <td>1.0</td>\n",
       "      <td>6</td>\n",
       "      <td>1043.0</td>\n",
       "      <td>80.0</td>\n",
       "      <td>272.990000</td>\n",
       "      <td>329.0</td>\n",
       "      <td>1.0</td>\n",
       "      <td>sky is clear</td>\n",
       "      <td>ATL</td>\n",
       "      <td>1.0</td>\n",
       "      <td>MCO</td>\n",
       "      <td>654.0</td>\n",
       "      <td>-1.0</td>\n",
       "      <td>0.0</td>\n",
       "      <td>0.0</td>\n",
       "      <td>655</td>\n",
       "      <td>404.0</td>\n",
       "      <td>-1.0</td>\n",
       "      <td>14.0</td>\n",
       "      <td>8.0</td>\n",
       "      <td>815.0</td>\n",
       "      <td>-7.0</td>\n",
       "      <td>0.0</td>\n",
       "      <td>0.0</td>\n",
       "      <td>59.0</td>\n",
       "      <td>404.0</td>\n",
       "      <td>0.0</td>\n",
       "      <td>0.0</td>\n",
       "      <td>0.0</td>\n",
       "      <td>0.0</td>\n",
       "      <td>0.0</td>\n",
       "      <td>0</td>\n",
       "      <td>DL1818</td>\n",
       "      <td>655.0</td>\n",
       "    </tr>\n",
       "    <tr>\n",
       "      <th>4</th>\n",
       "      <td>2015.0</td>\n",
       "      <td>1.0</td>\n",
       "      <td>1.0</td>\n",
       "      <td>6</td>\n",
       "      <td>1043.0</td>\n",
       "      <td>80.0</td>\n",
       "      <td>272.990000</td>\n",
       "      <td>329.0</td>\n",
       "      <td>1.0</td>\n",
       "      <td>sky is clear</td>\n",
       "      <td>ATL</td>\n",
       "      <td>1.0</td>\n",
       "      <td>CLT</td>\n",
       "      <td>658.0</td>\n",
       "      <td>-2.0</td>\n",
       "      <td>0.0</td>\n",
       "      <td>0.0</td>\n",
       "      <td>700</td>\n",
       "      <td>226.0</td>\n",
       "      <td>-1.0</td>\n",
       "      <td>15.0</td>\n",
       "      <td>10.0</td>\n",
       "      <td>801.0</td>\n",
       "      <td>-11.0</td>\n",
       "      <td>0.0</td>\n",
       "      <td>0.0</td>\n",
       "      <td>38.0</td>\n",
       "      <td>226.0</td>\n",
       "      <td>0.0</td>\n",
       "      <td>0.0</td>\n",
       "      <td>0.0</td>\n",
       "      <td>0.0</td>\n",
       "      <td>0.0</td>\n",
       "      <td>0</td>\n",
       "      <td>US461</td>\n",
       "      <td>660.0</td>\n",
       "    </tr>\n",
       "  </tbody>\n",
       "</table>\n",
       "</div>"
      ],
      "text/plain": [
       "     Year  Month  Day  hour  pressure  humidity  temperature  wind_direction  \\\n",
       "0  2015.0    1.0  1.0     5    1043.0      80.0   273.207333           317.0   \n",
       "1  2015.0    1.0  1.0     6    1043.0      80.0   272.990000           329.0   \n",
       "2  2015.0    1.0  1.0     6    1043.0      80.0   272.990000           329.0   \n",
       "3  2015.0    1.0  1.0     6    1043.0      80.0   272.990000           329.0   \n",
       "4  2015.0    1.0  1.0     6    1043.0      80.0   272.990000           329.0   \n",
       "\n",
       "   wind_speed   description Origin  Flights Dest  DepTime  DepDelay  \\\n",
       "0         1.0    few clouds    ATL      1.0  IAD    556.0      16.0   \n",
       "1         1.0  sky is clear    ATL      1.0  MIA    656.0      -4.0   \n",
       "2         1.0  sky is clear    ATL      1.0  LGA    644.0      -1.0   \n",
       "3         1.0  sky is clear    ATL      1.0  MCO    654.0      -1.0   \n",
       "4         1.0  sky is clear    ATL      1.0  CLT    658.0      -2.0   \n",
       "\n",
       "   DepDelayMinutes  DepDel15  CRSDepTime  Distance  DepartureDelayGroups  \\\n",
       "0             16.0       1.0         540     534.0                   1.0   \n",
       "1              0.0       0.0         700     594.0                  -1.0   \n",
       "2              0.0       0.0         645     762.0                  -1.0   \n",
       "3              0.0       0.0         655     404.0                  -1.0   \n",
       "4              0.0       0.0         700     226.0                  -1.0   \n",
       "\n",
       "   TaxiOut  TaxiIn  ArrTime  ArrDelay  Cancelled  Diverted  AirTime  Distance  \\\n",
       "0      9.0    15.0    739.0      14.0        0.0       0.0     79.0     534.0   \n",
       "1     15.0     9.0    842.0     -10.0        0.0       0.0     82.0     594.0   \n",
       "2     31.0     9.0    901.0       8.0        0.0       0.0     97.0     762.0   \n",
       "3     14.0     8.0    815.0      -7.0        0.0       0.0     59.0     404.0   \n",
       "4     15.0    10.0    801.0     -11.0        0.0       0.0     38.0     226.0   \n",
       "\n",
       "   CarrierDelay  WeatherDelay  NASDelay  SecurityDelay  LateAircraftDelay  \\\n",
       "0           0.0           0.0       0.0            0.0                0.0   \n",
       "1           0.0           0.0       0.0            0.0                0.0   \n",
       "2           0.0           0.0       0.0            0.0                0.0   \n",
       "3           0.0           0.0       0.0            0.0                0.0   \n",
       "4           0.0           0.0       0.0            0.0                0.0   \n",
       "\n",
       "   CancellationCode FlightNum  SchedDepartTime  \n",
       "0                 0    EV3268            540.0  \n",
       "1                 0      AA17            660.0  \n",
       "2                 0     DL886            645.0  \n",
       "3                 0    DL1818            655.0  \n",
       "4                 0     US461            660.0  "
      ]
     },
     "execution_count": 3,
     "metadata": {},
     "output_type": "execute_result"
    }
   ],
   "source": [
    "# df = pd.read_csv(\"./dataframe.csv\")\n",
    "df = pd.read_pickle(\"dataframe.pkl\")\n",
    "df.head() # shape = (278220, 35)\n",
    "# df.info() #(total 36 columns):"
   ]
  },
  {
   "cell_type": "code",
   "execution_count": 4,
   "metadata": {
    "ExecuteTime": {
     "end_time": "2019-01-14T00:01:01.159301Z",
     "start_time": "2019-01-14T00:01:01.098724Z"
    }
   },
   "outputs": [],
   "source": [
    "df = df.loc[:,~df.columns.duplicated()]\n",
    "df=df[['DepDelay','hour', 'pressure', 'humidity', 'temperature', 'wind_speed', 'description', 'Origin', 'Dest', 'DepTime', 'Distance', 'ArrTime','AirTime','CarrierDelay', 'WeatherDelay', 'NASDelay', 'SecurityDelay','LateAircraftDelay', 'CancellationCode']]\n",
    "# df['DATE'] = pd.to_datetime(df[['Year','Month', 'Day']])\n",
    "# df=df[['DepDelay','hour', 'pressure', 'humidity', 'temperature', 'wind_speed', 'description', 'Origin', 'Dest', 'DepTime', 'Distance', 'ArrTime','AirTime']]\n",
    "# df=df[df[\"Origin\"]==\"ATL\"]"
   ]
  },
  {
   "cell_type": "code",
   "execution_count": 19,
   "metadata": {},
   "outputs": [
    {
     "name": "stdout",
     "output_type": "stream",
     "text": [
      "<class 'pandas.core.frame.DataFrame'>\n",
      "Int64Index: 278220 entries, 0 to 50722\n",
      "Data columns (total 16 columns):\n",
      "DepDelay             278220 non-null float64\n",
      "hour                 278220 non-null int64\n",
      "pressure             278220 non-null float64\n",
      "humidity             278220 non-null float64\n",
      "temperature          278220 non-null float64\n",
      "wind_speed           278220 non-null float64\n",
      "description          278220 non-null object\n",
      "Origin               278220 non-null object\n",
      "Dest                 278220 non-null object\n",
      "Distance             278220 non-null float64\n",
      "CarrierDelay         278220 non-null float64\n",
      "WeatherDelay         278220 non-null float64\n",
      "NASDelay             278220 non-null float64\n",
      "SecurityDelay        278220 non-null float64\n",
      "LateAircraftDelay    278220 non-null float64\n",
      "CancellationCode     278220 non-null int64\n",
      "dtypes: float64(11), int64(2), object(3)\n",
      "memory usage: 46.1+ MB\n"
     ]
    }
   ],
   "source": [
    "df.info() #total 19 columns"
   ]
  },
  {
   "cell_type": "code",
   "execution_count": 50,
   "metadata": {},
   "outputs": [],
   "source": [
    "# #Create the plot in seaborn\n",
    "# # plt.figure(figsize=(8, 2))\n",
    "# g = sns.violinplot(x=\"Dest\", y=\"DepDelay\", data=df[:200],palette=\"coolwarm\")\n",
    "# g.set_ylabel('Delay')\n",
    "# g.set_xlabel('')\n",
    "# label = g.set_xticklabels(g.get_xticklabels(), rotation=90)\n",
    "# fig = g.get_figure()\n",
    "# fig.savefig(\"delay_violin_plot.png\", bbox_inches='tight')"
   ]
  },
  {
   "cell_type": "markdown",
   "metadata": {},
   "source": [
    "# Remove Collinear Features"
   ]
  },
  {
   "cell_type": "code",
   "execution_count": 6,
   "metadata": {},
   "outputs": [],
   "source": [
    "def remove_collinear_features(x, threshold):\n",
    "    '''\n",
    "    Objective:\n",
    "        Remove collinear features in a dataframe with a correlation coefficient\n",
    "        greater than the threshold. Removing collinear features can help a model\n",
    "        to generalize and improves the interpretability of the model.\n",
    "        \n",
    "    Inputs: \n",
    "        threshold: any features with correlations greater than this value are removed\n",
    "    \n",
    "    Output: \n",
    "        dataframe that contains only the non-highly-collinear features\n",
    "    '''\n",
    "#     y = df['DepDelay']\n",
    "    # Dont want to remove correlations between Energy Star Score\n",
    "    y = df['DepDelay']\n",
    "    x = df.drop(columns = ['DepDelay'])\n",
    "    \n",
    "    # Calculate the correlation matrix\n",
    "    corr_matrix = x.corr()\n",
    "    iters = range(len(corr_matrix.columns) - 1)\n",
    "    drop_cols = []\n",
    "\n",
    "    # Iterate through the correlation matrix and compare correlations\n",
    "    for i in iters:\n",
    "        for j in range(i):\n",
    "            item = corr_matrix.iloc[j:(j+1), (i+1):(i+2)]\n",
    "            col = item.columns\n",
    "            row = item.index\n",
    "            val = abs(item.values)\n",
    "            \n",
    "            # If correlation exceeds the threshold\n",
    "            if val >= threshold:\n",
    "                # Print the correlated features and the correlation value\n",
    "                # print(col.values[0], \"|\", row.values[0], \"|\", round(val[0][0], 2))\n",
    "                drop_cols.append(col.values[0])\n",
    "\n",
    "    # Drop one of each pair of correlated columns\n",
    "    drops = set(drop_cols)\n",
    "    x = df.drop(columns = drops)\n",
    "#     x = df.drop(columns = ['hour', 'pressure', 'humidity', 'temperature', 'wind_speed',\n",
    "#        'description', 'Origin', 'Dest', 'DepTime', 'Distance', 'ArrTime',\n",
    "#        'AirTime'])\n",
    "    \n",
    "    # Add the score back in to the data\n",
    "    x['DepDelay'] = y\n",
    "               \n",
    "    return x\n",
    "\n",
    "df = remove_collinear_features(df, 0.6);\n",
    "y = df['DepDelay']\n",
    "X = df.drop(columns = ['DepDelay'])\n"
   ]
  },
  {
   "cell_type": "code",
   "execution_count": 7,
   "metadata": {},
   "outputs": [
    {
     "name": "stdout",
     "output_type": "stream",
     "text": [
      "<class 'pandas.core.frame.DataFrame'>\n",
      "Int64Index: 278220 entries, 0 to 50722\n",
      "Data columns (total 15 columns):\n",
      "hour                 278220 non-null int64\n",
      "pressure             278220 non-null float64\n",
      "humidity             278220 non-null float64\n",
      "temperature          278220 non-null float64\n",
      "wind_speed           278220 non-null float64\n",
      "description          278220 non-null object\n",
      "Origin               278220 non-null object\n",
      "Dest                 278220 non-null object\n",
      "Distance             278220 non-null float64\n",
      "CarrierDelay         278220 non-null float64\n",
      "WeatherDelay         278220 non-null float64\n",
      "NASDelay             278220 non-null float64\n",
      "SecurityDelay        278220 non-null float64\n",
      "LateAircraftDelay    278220 non-null float64\n",
      "CancellationCode     278220 non-null int64\n",
      "dtypes: float64(10), int64(2), object(3)\n",
      "memory usage: 34.0+ MB\n"
     ]
    }
   ],
   "source": [
    "X.info()"
   ]
  },
  {
   "cell_type": "markdown",
   "metadata": {},
   "source": [
    "# Analyze Skewness of data"
   ]
  },
  {
   "cell_type": "code",
   "execution_count": 8,
   "metadata": {},
   "outputs": [
    {
     "name": "stderr",
     "output_type": "stream",
     "text": [
      "/home/ec2-user/anaconda3/envs/tensorflow_p36/lib/python3.6/site-packages/matplotlib/axes/_axes.py:6462: UserWarning: The 'normed' kwarg is deprecated, and has been replaced by the 'density' kwarg.\n",
      "  warnings.warn(\"The 'normed' kwarg is deprecated, and has been \"\n"
     ]
    },
    {
     "data": {
      "image/png": "[encoded data removed]",
      "text/plain": [
       "<Figure size 432x288 with 1 Axes>"
      ]
     },
     "metadata": {},
     "output_type": "display_data"
    },
    {
     "name": "stdout",
     "output_type": "stream",
     "text": [
      "Skewness: 7.769452\n",
      "Kurtosis: 123.662668\n"
     ]
    }
   ],
   "source": [
    "#histogram to figure out skewness\n",
    "sns.distplot(y)\n",
    "plt.show()\n",
    "# delays are mostly located on the left side of the graph, with a long tail to the right \n",
    "print(\"Skewness: %f\" % y.skew())\n",
    "print(\"Kurtosis: %f\" % y.kurt())"
   ]
  },
  {
   "cell_type": "markdown",
   "metadata": {},
   "source": [
    "# Taking log of flight delays and transform to account for negative values"
   ]
  },
  {
   "cell_type": "code",
   "execution_count": 10,
   "metadata": {},
   "outputs": [
    {
     "name": "stderr",
     "output_type": "stream",
     "text": [
      "/home/ec2-user/anaconda3/envs/tensorflow_p36/lib/python3.6/site-packages/matplotlib/axes/_axes.py:6462: UserWarning: The 'normed' kwarg is deprecated, and has been replaced by the 'density' kwarg.\n",
      "  warnings.warn(\"The 'normed' kwarg is deprecated, and has been \"\n"
     ]
    },
    {
     "data": {
      "image/png": "[encoded data removed]",
      "text/plain": [
       "<Figure size 432x288 with 1 Axes>"
      ]
     },
     "metadata": {},
     "output_type": "display_data"
    },
    {
     "name": "stdout",
     "output_type": "stream",
     "text": [
      "Skewness: 1.885669\n",
      "Kurtosis: 4.051972\n"
     ]
    }
   ],
   "source": [
    "#taking log of flight delays and making the lowest value equal to 1 since there are negative numbers \n",
    "z = np.log(y + 1 - min(df['DepDelay']))# \n",
    "z.describe()\n",
    "# z.tail()\n",
    "sns.distplot(z)\n",
    "plt.show()\n",
    "#skew and Kurtosis are much better to modle on now \n",
    "print(\"Skewness: %f\" % z.skew())\n",
    "print(\"Kurtosis: %f\" % z.kurt())"
   ]
  },
  {
   "cell_type": "code",
   "execution_count": 25,
   "metadata": {},
   "outputs": [],
   "source": [
    "# # #scatterplot\n",
    "# sns.set()\n",
    "# cols = ['DepDelay', 'CarrierDelay', 'LateAircraftDelay', 'NASDelay', 'WeatherDelay']\n",
    "# sns.pairplot(df[cols], size = 2.5)\n",
    "# plt.show()"
   ]
  },
  {
   "cell_type": "code",
   "execution_count": 11,
   "metadata": {
    "ExecuteTime": {
     "end_time": "2019-01-14T00:02:53.448303Z",
     "start_time": "2019-01-14T00:02:52.437249Z"
    }
   },
   "outputs": [
    {
     "name": "stdout",
     "output_type": "stream",
     "text": [
      "<class 'pandas.core.frame.DataFrame'>\n",
      "Int64Index: 278220 entries, 0 to 50722\n",
      "Columns: 290 entries, hour to description_very heavy rain\n",
      "dtypes: float64(11), int64(1), uint8(278)\n",
      "memory usage: 101.4 MB\n",
      "None\n",
      "                hour       pressure       humidity    temperature  \\\n",
      "count  278220.000000  278220.000000  278220.000000  278220.000000   \n",
      "mean        0.605044       0.682790       0.699510       0.509982   \n",
      "std         0.205597       0.102464       0.230999       0.163319   \n",
      "min         0.000000       0.000000       0.000000       0.000000   \n",
      "25%         0.434783       0.611570       0.526882       0.405872   \n",
      "50%         0.608696       0.677686       0.720430       0.507827   \n",
      "75%         0.782609       0.760331       0.913978       0.618553   \n",
      "max         1.000000       1.000000       1.000000       1.000000   \n",
      "\n",
      "          wind_speed       Distance  CarrierDelay   WeatherDelay  \\\n",
      "count  278220.000000  278220.000000  278220.00000  278220.000000   \n",
      "mean        0.191611       0.155046       4.61010       1.001610   \n",
      "std         0.124864       0.108768      23.53976      13.352123   \n",
      "min         0.000000       0.000000       0.00000       0.000000   \n",
      "25%         0.117647       0.078692       0.00000       0.000000   \n",
      "50%         0.176471       0.129425       0.00000       0.000000   \n",
      "75%         0.235294       0.198196       0.00000       0.000000   \n",
      "max         1.000000       1.000000    1217.00000    1329.000000   \n",
      "\n",
      "            NASDelay  SecurityDelay  LateAircraftDelay  CancellationCode  \\\n",
      "count  278220.000000  278220.000000      278220.000000          278220.0   \n",
      "mean        2.678610       0.009241           4.101190               0.0   \n",
      "std        12.565422       0.593218          19.550369               0.0   \n",
      "min         0.000000       0.000000           0.000000               0.0   \n",
      "25%         0.000000       0.000000           0.000000               0.0   \n",
      "50%         0.000000       0.000000           0.000000               0.0   \n",
      "75%         0.000000       0.000000           0.000000               0.0   \n",
      "max       834.000000     123.000000        1175.000000               0.0   \n",
      "\n",
      "          Origin_ATL     Origin_CLT     Origin_DEN     Origin_DFW  \\\n",
      "count  278220.000000  278220.000000  278220.000000  278220.000000   \n",
      "mean        0.316372       0.095856       0.182313       0.193746   \n",
      "std         0.465061       0.294394       0.386103       0.395233   \n",
      "min         0.000000       0.000000       0.000000       0.000000   \n",
      "25%         0.000000       0.000000       0.000000       0.000000   \n",
      "50%         0.000000       0.000000       0.000000       0.000000   \n",
      "75%         1.000000       0.000000       0.000000       0.000000   \n",
      "max         1.000000       1.000000       1.000000       1.000000   \n",
      "\n",
      "          Origin_ORD       Dest_ABE       Dest_ABI       Dest_ABQ  \\\n",
      "count  278220.000000  278220.000000  278220.000000  278220.000000   \n",
      "mean        0.211714       0.001125       0.000913       0.003454   \n",
      "std         0.408524       0.033522       0.030201       0.058670   \n",
      "min         0.000000       0.000000       0.000000       0.000000   \n",
      "25%         0.000000       0.000000       0.000000       0.000000   \n",
      "50%         0.000000       0.000000       0.000000       0.000000   \n",
      "75%         0.000000       0.000000       0.000000       0.000000   \n",
      "max         1.000000       1.000000       1.000000       1.000000   \n",
      "\n",
      "                  ...               description_freezing rain  \\\n",
      "count             ...                           278220.000000   \n",
      "mean              ...                                0.000119   \n",
      "std               ...                                0.010890   \n",
      "min               ...                                0.000000   \n",
      "25%               ...                                0.000000   \n",
      "50%               ...                                0.000000   \n",
      "75%               ...                                0.000000   \n",
      "max               ...                                1.000000   \n",
      "\n",
      "       description_haze  description_heavy intensity drizzle  \\\n",
      "count     278220.000000                        278220.000000   \n",
      "mean           0.021914                             0.000837   \n",
      "std            0.146404                             0.028927   \n",
      "min            0.000000                             0.000000   \n",
      "25%            0.000000                             0.000000   \n",
      "50%            0.000000                             0.000000   \n",
      "75%            0.000000                             0.000000   \n",
      "max            1.000000                             1.000000   \n",
      "\n",
      "       description_heavy intensity rain  description_heavy snow  \\\n",
      "count                     278220.000000           278220.000000   \n",
      "mean                           0.016235                0.000557   \n",
      "std                            0.126380                0.023597   \n",
      "min                            0.000000                0.000000   \n",
      "25%                            0.000000                0.000000   \n",
      "50%                            0.000000                0.000000   \n",
      "75%                            0.000000                0.000000   \n",
      "max                            1.000000                1.000000   \n",
      "\n",
      "       description_light intensity drizzle  description_light rain  \\\n",
      "count                        278220.000000           278220.000000   \n",
      "mean                              0.008874                0.057415   \n",
      "std                               0.093785                0.232634   \n",
      "min                               0.000000                0.000000   \n",
      "25%                               0.000000                0.000000   \n",
      "50%                               0.000000                0.000000   \n",
      "75%                               0.000000                0.000000   \n",
      "max                               1.000000                1.000000   \n",
      "\n",
      "       description_light snow  description_mist  description_moderate rain  \\\n",
      "count           278220.000000     278220.000000              278220.000000   \n",
      "mean                 0.043300          0.083973                   0.014805   \n",
      "std                  0.203533          0.277348                   0.120771   \n",
      "min                  0.000000          0.000000                   0.000000   \n",
      "25%                  0.000000          0.000000                   0.000000   \n",
      "50%                  0.000000          0.000000                   0.000000   \n",
      "75%                  0.000000          0.000000                   0.000000   \n",
      "max                  1.000000          1.000000                   1.000000   \n",
      "\n",
      "       description_overcast clouds  description_proximity shower rain  \\\n",
      "count                278220.000000                      278220.000000   \n",
      "mean                      0.084138                           0.000266   \n",
      "std                       0.277596                           0.016307   \n",
      "min                       0.000000                           0.000000   \n",
      "25%                       0.000000                           0.000000   \n",
      "50%                       0.000000                           0.000000   \n",
      "75%                       0.000000                           0.000000   \n",
      "max                       1.000000                           1.000000   \n",
      "\n",
      "       description_proximity thunderstorm  description_scattered clouds  \\\n",
      "count                       278220.000000                 278220.000000   \n",
      "mean                             0.000536                      0.072914   \n",
      "std                              0.023136                      0.259995   \n",
      "min                              0.000000                      0.000000   \n",
      "25%                              0.000000                      0.000000   \n",
      "50%                              0.000000                      0.000000   \n",
      "75%                              0.000000                      0.000000   \n",
      "max                              1.000000                      1.000000   \n",
      "\n",
      "       description_sky is clear  description_smoke  description_snow  \\\n",
      "count             278220.000000      278220.000000     278220.000000   \n",
      "mean                   0.402631           0.000169          0.014726   \n",
      "std                    0.490429           0.012996          0.120453   \n",
      "min                    0.000000           0.000000          0.000000   \n",
      "25%                    0.000000           0.000000          0.000000   \n",
      "50%                    0.000000           0.000000          0.000000   \n",
      "75%                    1.000000           0.000000          0.000000   \n",
      "max                    1.000000           1.000000          1.000000   \n",
      "\n",
      "       description_thunderstorm  description_thunderstorm with rain  \\\n",
      "count             278220.000000                       278220.000000   \n",
      "mean                   0.000104                            0.000482   \n",
      "std                    0.010209                            0.021941   \n",
      "min                    0.000000                            0.000000   \n",
      "25%                    0.000000                            0.000000   \n",
      "50%                    0.000000                            0.000000   \n",
      "75%                    0.000000                            0.000000   \n",
      "max                    1.000000                            1.000000   \n",
      "\n",
      "       description_very heavy rain  \n",
      "count                278220.000000  \n",
      "mean                      0.000018  \n",
      "std                       0.004239  \n",
      "min                       0.000000  \n",
      "25%                       0.000000  \n",
      "50%                       0.000000  \n",
      "75%                       0.000000  \n",
      "max                       1.000000  \n",
      "\n",
      "[8 rows x 290 columns]\n"
     ]
    }
   ],
   "source": [
    "features123=X\n",
    "categorical_subset = features123[['Origin','Dest','description', 'CarrierDelay',\n",
    "       'WeatherDelay', 'NASDelay', 'SecurityDelay', 'LateAircraftDelay',\n",
    "       'CancellationCode']]\n",
    "numeric_subset=features123[['hour', 'pressure', 'humidity', 'temperature', 'wind_speed', 'Distance']]\n",
    "numeric_subset_columns=['hour', 'pressure', 'humidity', 'temperature', 'wind_speed', 'Distance']\n",
    "# One hot encode\n",
    "\n",
    "categorical_subset = pd.get_dummies(categorical_subset)\n",
    "#normalize categorical \n",
    "numeric_subset = numeric_subset[numeric_subset_columns].apply(lambda x: (x - x.min()) / (x.max() - x.min()))\n",
    "# numeric_subset\n",
    "\n",
    "# Join the two dataframes using concat\n",
    "# Make sure to use axis = 1 to perform a column bind\n",
    "features1234 = pd.concat([numeric_subset, categorical_subset], axis = 1)\n",
    "\n",
    "print(features1234.info())\n",
    "print(features1234.describe())"
   ]
  },
  {
   "cell_type": "code",
   "execution_count": 13,
   "metadata": {
    "ExecuteTime": {
     "end_time": "2019-01-14T00:03:26.085558Z",
     "start_time": "2019-01-14T00:00:49.368Z"
    }
   },
   "outputs": [
    {
     "name": "stdout",
     "output_type": "stream",
     "text": [
      "(278220, 290)\n",
      "(278220,)\n",
      "-28.0\n"
     ]
    }
   ],
   "source": [
    "features = features1234 #(278220, 13)\n",
    "targets = z #pd.DataFrame(y)  #278220,)\n",
    "min_value=min(df['DepDelay'])\n",
    "print(features.shape)\n",
    "print(targets.shape)\n",
    "print(min_value)           "
   ]
  },
  {
   "cell_type": "code",
   "execution_count": 14,
   "metadata": {},
   "outputs": [],
   "source": [
    "# changing to binary Where anything greater than 15 minutes delayed is a 1 and anything else (including negative is a 0)\n",
    "#taking the log due to skewness but have to add 1 and less the min value becuase some values are negative\n",
    "def delay(targets):\n",
    "    if targets > np.log(15 + 1 - min_value): # 3.784: #variable= np.log(15 + 1 - -28))  value is the value of 15 using the log transformation from above  \n",
    "        return 1\n",
    "    else:\n",
    "        return 0\n",
    "targets=targets.apply(delay)"
   ]
  },
  {
   "cell_type": "code",
   "execution_count": 15,
   "metadata": {},
   "outputs": [
    {
     "name": "stdout",
     "output_type": "stream",
     "text": [
      "(278220,)\n",
      "(278220, 290)\n"
     ]
    }
   ],
   "source": [
    "print(targets.shape)\n",
    "print(features.shape)"
   ]
  },
  {
   "cell_type": "markdown",
   "metadata": {},
   "source": [
    "# Models LogisticRegression:  accuracy is 0.9466968586011071"
   ]
  },
  {
   "cell_type": "code",
   "execution_count": 32,
   "metadata": {},
   "outputs": [
    {
     "name": "stderr",
     "output_type": "stream",
     "text": [
      "/home/ec2-user/anaconda3/envs/tensorflow_p36/lib/python3.6/site-packages/sklearn/linear_model/logistic.py:433: FutureWarning: Default solver will be changed to 'lbfgs' in 0.22. Specify a solver to silence this warning.\n",
      "  FutureWarning)\n"
     ]
    },
    {
     "name": "stdout",
     "output_type": "stream",
     "text": [
      "Accuracy of logistic regression classifier on test set: 0.95\n",
      "[[22021  1184]\n",
      " [  299  4318]]\n",
      "accuracy is 0.9466968586011071\n"
     ]
    }
   ],
   "source": [
    "x_train4, x_val4, y_train4, y_val4 = train_test_split(features, targets,test_size = .1,random_state=12)\n",
    "logreg = LogisticRegression(fit_intercept = False, C = 1e12) #Starter code\n",
    "model = logreg.fit(x_train4,y_train4)\n",
    "\n",
    "#Predict\n",
    "y_pred4=model.predict(x_val4)\n",
    "print('Accuracy of logistic regression classifier on test set: {:.2f}'.format(model.score(x_val4, y_val4)))\n",
    "# print(classification_report(y_val4, y_pred4))\n",
    "print(confusion_matrix(y_pred4,y_val4))\n",
    "# Accuracy score\n",
    "print('accuracy is',accuracy_score(y_pred4,y_val4))"
   ]
  },
  {
   "cell_type": "code",
   "execution_count": 33,
   "metadata": {},
   "outputs": [
    {
     "data": {
      "image/png": "[encoded data removed]",
      "text/plain": [
       "<Figure size 432x288 with 1 Axes>"
      ]
     },
     "metadata": {},
     "output_type": "display_data"
    }
   ],
   "source": [
    "X_train,X_test,y_train,y_test=x_train4, x_val4, y_train4, y_val4\n",
    "logit_roc_auc = roc_auc_score(y_test, model.predict(X_test))\n",
    "fpr, tpr, thresholds = roc_curve(y_test, model.predict_proba(X_test)[:,1])\n",
    "plt.figure()\n",
    "plt.plot(fpr, tpr, label='Logistic Regression (area = %0.2f)' % logit_roc_auc)\n",
    "plt.plot([0, 1], [0, 1],'r--')\n",
    "plt.xlim([0.0, 1.0])\n",
    "plt.ylim([0.0, 1.05])\n",
    "plt.xlabel('False Positive Rate')\n",
    "plt.ylabel('True Positive Rate')\n",
    "plt.title('Receiver operating characteristic')\n",
    "plt.legend(loc=\"lower right\")\n",
    "plt.savefig('Log_ROC')\n",
    "plt.show()"
   ]
  },
  {
   "cell_type": "markdown",
   "metadata": {},
   "source": [
    "# Model RandomForestClassifier(n_estimators=130): accuracy is 0.9514053626626411\n"
   ]
  },
  {
   "cell_type": "code",
   "execution_count": 34,
   "metadata": {},
   "outputs": [
    {
     "data": {
      "text/plain": [
       "RandomForestClassifier(bootstrap=True, class_weight=None, criterion='gini',\n",
       "            max_depth=None, max_features='auto', max_leaf_nodes=None,\n",
       "            min_impurity_decrease=0.0, min_impurity_split=None,\n",
       "            min_samples_leaf=1, min_samples_split=2,\n",
       "            min_weight_fraction_leaf=0.0, n_estimators=130, n_jobs=None,\n",
       "            oob_score=False, random_state=12, verbose=0, warm_start=False)"
      ]
     },
     "execution_count": 34,
     "metadata": {},
     "output_type": "execute_result"
    }
   ],
   "source": [
    "x_train6, x_val6, y_train6, y_val6 = train_test_split(features, targets,test_size = .1,random_state=12)\n",
    "\n",
    "clf_rf = RandomForestClassifier(n_estimators=130, random_state=12)\n",
    "clf_rf.fit(x_train6, y_train6)"
   ]
  },
  {
   "cell_type": "code",
   "execution_count": 35,
   "metadata": {},
   "outputs": [
    {
     "name": "stdout",
     "output_type": "stream",
     "text": [
      "              precision    recall  f1-score   support\n",
      "\n",
      "           0       0.95      0.99      0.97     22320\n",
      "           1       0.95      0.80      0.87      5502\n",
      "\n",
      "   micro avg       0.95      0.95      0.95     27822\n",
      "   macro avg       0.95      0.89      0.92     27822\n",
      "weighted avg       0.95      0.95      0.95     27822\n",
      "\n",
      "[[22086  1118]\n",
      " [  234  4384]]\n",
      "accuracy is 0.9514053626626411\n"
     ]
    }
   ],
   "source": [
    "#Predict\n",
    "y_pred6=clf_rf.predict(x_val6)\n",
    "print(classification_report(y_val6, y_pred6))\n",
    "print(confusion_matrix(y_pred6,y_val6))\n",
    "# Accuracy score\n",
    "print('accuracy is',accuracy_score(y_pred6,y_val6))"
   ]
  },
  {
   "cell_type": "markdown",
   "metadata": {},
   "source": [
    "# GradientBoostingClassifier: accuracy is 0.9553590683631659"
   ]
  },
  {
   "cell_type": "code",
   "execution_count": 36,
   "metadata": {},
   "outputs": [
    {
     "data": {
      "text/plain": [
       "GradientBoostingClassifier(criterion='friedman_mse', init=None,\n",
       "              learning_rate=0.1, loss='deviance', max_depth=3,\n",
       "              max_features=None, max_leaf_nodes=None,\n",
       "              min_impurity_decrease=0.0, min_impurity_split=None,\n",
       "              min_samples_leaf=1, min_samples_split=2,\n",
       "              min_weight_fraction_leaf=0.0, n_estimators=100,\n",
       "              n_iter_no_change=None, presort='auto', random_state=None,\n",
       "              subsample=1.0, tol=0.0001, validation_fraction=0.1,\n",
       "              verbose=0, warm_start=False)"
      ]
     },
     "execution_count": 36,
     "metadata": {},
     "output_type": "execute_result"
    }
   ],
   "source": [
    "from sklearn.ensemble import GradientBoostingClassifier\n",
    "x_train5, x_val5, y_train5, y_val5 = train_test_split(features, targets,test_size = .1,random_state=12)\n",
    "\n",
    "model5=GradientBoostingClassifier()\n",
    "model5.fit(x_train5,y_train5) #(x_train_res,y_train_res)"
   ]
  },
  {
   "cell_type": "code",
   "execution_count": 37,
   "metadata": {},
   "outputs": [
    {
     "name": "stdout",
     "output_type": "stream",
     "text": [
      "              precision    recall  f1-score   support\n",
      "\n",
      "           0       0.95      1.00      0.97     22320\n",
      "           1       0.98      0.79      0.87      5502\n",
      "\n",
      "   micro avg       0.96      0.96      0.96     27822\n",
      "   macro avg       0.97      0.89      0.92     27822\n",
      "weighted avg       0.96      0.96      0.95     27822\n",
      "\n",
      "[[22238  1160]\n",
      " [   82  4342]]\n",
      "accuracy is 0.9553590683631659\n"
     ]
    }
   ],
   "source": [
    "#Predict\n",
    "y_pred5=model5.predict(x_val5)\n",
    "print(classification_report(y_val5, y_pred5))\n",
    "print(confusion_matrix(y_pred5,y_val5))\n",
    "# Accuracy score\n",
    "print('accuracy is',accuracy_score(y_pred5,y_val5))"
   ]
  },
  {
   "cell_type": "code",
   "execution_count": 42,
   "metadata": {},
   "outputs": [
    {
     "data": {
      "image/png": "[encoded data removed]",
      "text/plain": [
       "<Figure size 432x288 with 1 Axes>"
      ]
     },
     "metadata": {},
     "output_type": "display_data"
    }
   ],
   "source": [
    "X_train,X_test,y_train,y_test=x_train5, x_val5, y_train5, y_val5\n",
    "logit_roc_auc = roc_auc_score(y_test, model.predict(X_test))\n",
    "fpr, tpr, thresholds = roc_curve(y_test, model.predict_proba(X_test)[:,1])\n",
    "plt.figure()\n",
    "plt.plot(fpr, tpr, label='Gradient Boost (area = %0.2f)' % logit_roc_auc)\n",
    "plt.plot([0, 1], [0, 1],'r--')\n",
    "plt.xlim([0.0, 1.0])\n",
    "plt.ylim([0.0, 1.05])\n",
    "plt.xlabel('False Positive Rate')\n",
    "plt.ylabel('True Positive Rate')\n",
    "plt.title('Receiver operating characteristic')\n",
    "plt.legend(loc=\"lower right\")\n",
    "plt.savefig('Log_ROC')\n",
    "plt.show()"
   ]
  },
  {
   "cell_type": "markdown",
   "metadata": {},
   "source": [
    "# AdaBoostClassifier: accuracy is 0.9520523326863634\n"
   ]
  },
  {
   "cell_type": "code",
   "execution_count": 38,
   "metadata": {},
   "outputs": [
    {
     "name": "stdout",
     "output_type": "stream",
     "text": [
      "              precision    recall  f1-score   support\n",
      "\n",
      "           0       0.95      1.00      0.97     22320\n",
      "           1       0.98      0.78      0.86      5502\n",
      "\n",
      "   micro avg       0.95      0.95      0.95     27822\n",
      "   macro avg       0.96      0.89      0.92     27822\n",
      "weighted avg       0.95      0.95      0.95     27822\n",
      "\n",
      "[[22220  1234]\n",
      " [  100  4268]]\n",
      "accuracy is 0.9520523326863634\n"
     ]
    }
   ],
   "source": [
    "from sklearn.ensemble import AdaBoostClassifier\n",
    "x_train9, x_val9, y_train9, y_val9 = train_test_split(features, targets,test_size = .1,random_state=12)\n",
    "\n",
    "model9=AdaBoostClassifier()\n",
    "model9.fit(x_train9,y_train9) #(x_train_res,y_train_res)\n",
    "#Predict\n",
    "y_pred9=model9.predict(x_val9)\n",
    "print(classification_report(y_val9, y_pred9))\n",
    "print(confusion_matrix(y_pred9,y_val9))\n",
    "# Accuracy score\n",
    "print('accuracy is',accuracy_score(y_pred9,y_val9))"
   ]
  },
  {
   "cell_type": "code",
   "execution_count": 41,
   "metadata": {},
   "outputs": [
    {
     "data": {
      "image/png": "[encoded data removed]",
      "text/plain": [
       "<Figure size 432x288 with 1 Axes>"
      ]
     },
     "metadata": {},
     "output_type": "display_data"
    }
   ],
   "source": [
    "X_train,X_test,y_train,y_test=x_train9, x_val9, y_train9, y_val9\n",
    "logit_roc_auc = roc_auc_score(y_test, model.predict(X_test))\n",
    "fpr, tpr, thresholds = roc_curve(y_test, model.predict_proba(X_test)[:,1])\n",
    "plt.figure()\n",
    "plt.plot(fpr, tpr, label='Adaboost Classifier (area = %0.2f)' % logit_roc_auc)\n",
    "plt.plot([0, 1], [0, 1],'r--')\n",
    "plt.xlim([0.0, 1.0])\n",
    "plt.ylim([0.0, 1.05])\n",
    "plt.xlabel('False Positive Rate')\n",
    "plt.ylabel('True Positive Rate')\n",
    "plt.title('Receiver operating characteristic')\n",
    "plt.legend(loc=\"lower right\")\n",
    "plt.savefig('Log_ROC')\n",
    "plt.show()"
   ]
  },
  {
   "cell_type": "markdown",
   "metadata": {},
   "source": [
    "# Models: SMOTE Random Forest and GradientBoosting\n",
    "# 1)Gradient and Smote Accuracy is 0.9518007332\n",
    "# 2)Random Forest and Smote Accuracy is 0.951585076"
   ]
  },
  {
   "cell_type": "code",
   "execution_count": 39,
   "metadata": {},
   "outputs": [
    {
     "name": "stdout",
     "output_type": "stream",
     "text": [
      "49940\n",
      "200458\n"
     ]
    }
   ],
   "source": [
    "ones=y_train[y_train==1].count()\n",
    "print(ones)\n",
    "zeross=y_train[y_train==0].count()\n",
    "print(zeross)"
   ]
  },
  {
   "cell_type": "code",
   "execution_count": 43,
   "metadata": {},
   "outputs": [],
   "source": [
    "#smote only on the training features because of large class imbalance\n",
    "X_train10, X_test10, y_train10, y_test10 = train_test_split(features, targets, test_size = 0.1, random_state = 42)\n",
    "sm = SMOTE(k_neighbors=5, kind = 'regular', ratio='auto')#(random_state=12, ratio = 1.0)\n",
    "x_train_res10, y_train_res10 = sm.fit_sample(X_train10, y_train10)"
   ]
  },
  {
   "cell_type": "code",
   "execution_count": 44,
   "metadata": {},
   "outputs": [
    {
     "name": "stdout",
     "output_type": "stream",
     "text": [
      "              precision    recall  f1-score   support\n",
      "\n",
      "           0       0.95      0.99      0.97     22389\n",
      "           1       0.94      0.81      0.87      5433\n",
      "\n",
      "   micro avg       0.95      0.95      0.95     27822\n",
      "   macro avg       0.95      0.90      0.92     27822\n",
      "weighted avg       0.95      0.95      0.95     27822\n",
      "\n",
      "[[22093  1045]\n",
      " [  296  4388]]\n",
      "accuracy is 0.9518007332326935\n"
     ]
    }
   ],
   "source": [
    "model6=GradientBoostingClassifier()\n",
    "model6.fit(x_train_res10,y_train_res10) #(x_train_res,y_train_res)\n",
    "#Predict\n",
    "y_pred16=model6.predict(X_test10)\n",
    "print(classification_report(y_test10, y_pred16))\n",
    "print(confusion_matrix(y_pred16,y_test10))\n",
    "# Accuracy score\n",
    "print('accuracy is',accuracy_score(y_pred16,y_test10))\n",
    "#vs. withoutsmote accuracy is 0.9553590683631659\n",
    "#accuracy went down with smote"
   ]
  },
  {
   "cell_type": "code",
   "execution_count": 46,
   "metadata": {},
   "outputs": [
    {
     "data": {
      "text/plain": [
       "RandomForestClassifier(bootstrap=True, class_weight=None, criterion='gini',\n",
       "            max_depth=None, max_features='auto', max_leaf_nodes=None,\n",
       "            min_impurity_decrease=0.0, min_impurity_split=None,\n",
       "            min_samples_leaf=1, min_samples_split=2,\n",
       "            min_weight_fraction_leaf=0.0, n_estimators=130, n_jobs=None,\n",
       "            oob_score=False, random_state=12, verbose=0, warm_start=False)"
      ]
     },
     "execution_count": 46,
     "metadata": {},
     "output_type": "execute_result"
    }
   ],
   "source": [
    "clf_rf2 = RandomForestClassifier(n_estimators=130, random_state=12)\n",
    "clf_rf2.fit(x_train_res10,y_train_res10) #(x_train_res,y_train_res)"
   ]
  },
  {
   "cell_type": "code",
   "execution_count": 47,
   "metadata": {},
   "outputs": [
    {
     "name": "stdout",
     "output_type": "stream",
     "text": [
      "              precision    recall  f1-score   support\n",
      "\n",
      "           0       0.96      0.99      0.97     22389\n",
      "           1       0.93      0.81      0.87      5433\n",
      "\n",
      "   micro avg       0.95      0.95      0.95     27822\n",
      "   macro avg       0.94      0.90      0.92     27822\n",
      "weighted avg       0.95      0.95      0.95     27822\n",
      "\n",
      "[[22070  1028]\n",
      " [  319  4405]]\n",
      "accuracy is 0.9515850765581195\n"
     ]
    }
   ],
   "source": [
    "#Predict\n",
    "y_pred17=clf_rf2.predict(X_test10)\n",
    "print(classification_report(y_test10, y_pred17))\n",
    "print(confusion_matrix(y_pred17,y_test10))\n",
    "# Accuracy score\n",
    "print('accuracy is',accuracy_score(y_pred17,y_test10))\n",
    "#vs. accuracy is 0.9514053626626411 from above slightly better"
   ]
  },
  {
   "cell_type": "markdown",
   "metadata": {},
   "source": [
    "# For loop to ID best n_estimators for RandomForest"
   ]
  },
  {
   "cell_type": "code",
   "execution_count": null,
   "metadata": {},
   "outputs": [],
   "source": [
    "# training_features, test_features,training_target, test_target, = train_test_split(features, targets, test_size = 0.2, random_state = 42)\n",
    "x_train, x_val, y_train, y_val = train_test_split(features, targets,\n",
    "                                                  test_size = .2,\n",
    "                                                  random_state=12)\n",
    "model20 = RandomForestRegressor()# ** RUN\n",
    "# Try different numbers of n_estimators - this will take a minute or so\n",
    "estimators = np.arange(80, 180, 10)\n",
    "scores = []\n",
    "\n",
    "for n in estimators:\n",
    "    model20.set_params(n_estimators=n)\n",
    "    model20.fit(x_train, y_train)\n",
    "    scores.append(model20.score(x_val, y_val))\n",
    "\n",
    "    print(scores)   \n",
    "# [0.06876993650387908, 0.06814176310778741, 0.06812073297087695, 0.06546792401222368, 0.06745140662252946, 0.07017185833784179, 0.07237041038395498, 0.07026188479434115, 0.07065780446412384, 0.0713504146699957, 0.07152587497511753, 0.07142876040901402, 0.07000811412510188]\n",
    "len(scores)\n",
    "scores1 =pd.DataFrame(estimators,scores)\n",
    "print(scores1)\n",
    "# 0.067451  110\n",
    "# 0.070172  120\n",
    "# 0.072370  130\n",
    "# 0.070262  140\n",
    "# 0.070658  150\n",
    "# 0.071350  160\n",
    "# 0.071526  170\n",
    "# 0.071429  180\n",
    "# 0.070008  190\n",
    "\n",
    "plt.title(\"Effect of n_estimators\")\n",
    "plt.xlabel(\"n_estimator\")\n",
    "plt.ylabel(\"score\")\n",
    "plt.plot(estimators, scores)\n",
    "#best is 130"
   ]
  },
  {
   "cell_type": "markdown",
   "metadata": {},
   "source": [
    "#  PCA: 130 of 284 features explain 95% of variance"
   ]
  },
  {
   "cell_type": "code",
   "execution_count": 87,
   "metadata": {
    "ExecuteTime": {
     "end_time": "2019-01-14T00:03:26.187892Z",
     "start_time": "2019-01-14T00:00:50.126Z"
    }
   },
   "outputs": [],
   "source": [
    "from sklearn.decomposition import PCA\n",
    "pca = PCA()#n_components=2)\n",
    "pca.fit_transform(features,targets)\n",
    "var_explained = pca.explained_variance_ratio_ #ratio of variance each PC explains"
   ]
  },
  {
   "cell_type": "code",
   "execution_count": 90,
   "metadata": {},
   "outputs": [
    {
     "name": "stdout",
     "output_type": "stream",
     "text": [
      "284\n",
      "0.9509387177122577\n"
     ]
    }
   ],
   "source": [
    "print(len(var_explained))\n",
    "print(sum(var_explained[0:130]))\n",
    "#120 is the number of features that explain 94% of the variance"
   ]
  },
  {
   "cell_type": "markdown",
   "metadata": {},
   "source": [
    "# KNeighbors Classifier: accuracy is 0.9568686650851844"
   ]
  },
  {
   "cell_type": "code",
   "execution_count": 17,
   "metadata": {},
   "outputs": [
    {
     "data": {
      "text/plain": [
       "KNeighborsClassifier(algorithm='auto', leaf_size=30, metric='minkowski',\n",
       "           metric_params=None, n_jobs=None, n_neighbors=5, p=2,\n",
       "           weights='uniform')"
      ]
     },
     "execution_count": 17,
     "metadata": {},
     "output_type": "execute_result"
    }
   ],
   "source": [
    "from sklearn.neighbors import KNeighborsClassifier\n",
    "X_trainC1, X_testC1, y_trainC1, y_testC1 = train_test_split(features, targets, test_size = 0.1, random_state = 42)\n",
    "# sm = SMOTE(k_neighbors=5, kind = 'regular', ratio='auto')#(random_state=12, ratio = 1.0)\n",
    "# x_train_resC1, y_train_resC1 = sm.fit_sample(X_trainC1, y_trainC1)\n",
    "\n",
    "modeB1=KNeighborsClassifier(n_neighbors=5)\n",
    "modeB1.fit(X_trainC1,y_trainC1) #(x_train_res,y_train_res) y_train_res10\n"
   ]
  },
  {
   "cell_type": "code",
   "execution_count": 19,
   "metadata": {},
   "outputs": [
    {
     "name": "stdout",
     "output_type": "stream",
     "text": [
      "              precision    recall  f1-score   support\n",
      "\n",
      "           0       0.95      0.99      0.97     22389\n",
      "           1       0.97      0.80      0.88      5433\n",
      "\n",
      "   micro avg       0.96      0.96      0.96     27822\n",
      "   macro avg       0.96      0.90      0.93     27822\n",
      "weighted avg       0.96      0.96      0.96     27822\n",
      "\n",
      "[[22262  1073]\n",
      " [  127  4360]]\n",
      "accuracy is 0.9568686650851844\n"
     ]
    }
   ],
   "source": [
    "#Predict\n",
    "y_predB1=modeB1.predict(X_testC1)\n",
    "print(classification_report(y_testC1, y_predB1))\n",
    "print(confusion_matrix(y_predB1,y_testC1))\n",
    "# Accuracy score\n",
    "print('accuracy is',accuracy_score(y_predB1,y_testC1))\n",
    "#vs. withoutsmote accuracy is 0.9553590683631659\n",
    "#accuracy went down with smote"
   ]
  },
  {
   "cell_type": "markdown",
   "metadata": {},
   "source": [
    "#  KNeighborsClassifier much worse results with Smote"
   ]
  },
  {
   "cell_type": "code",
   "execution_count": 16,
   "metadata": {},
   "outputs": [],
   "source": [
    "from sklearn.neighbors import KNeighborsClassifier\n",
    "X_trainC1, X_testC1, y_trainC1, y_testC1 = train_test_split(features, targets, test_size = 0.1, random_state = 42)\n",
    "# sm = SMOTE(random_state=12, ratio = 1.0)#(random_state=12, ratio = 1.0)"
   ]
  },
  {
   "cell_type": "code",
   "execution_count": 17,
   "metadata": {},
   "outputs": [
    {
     "name": "stdout",
     "output_type": "stream",
     "text": [
      "0    22389\n",
      "1     5433\n",
      "Name: DepDelay, dtype: int64\n",
      "1    200389\n",
      "0    200389\n",
      "dtype: int64\n"
     ]
    }
   ],
   "source": [
    "# # SMOTE\n",
    "from imblearn.over_sampling import SMOTE, ADASYN\n",
    "print(y_testC1.value_counts()) #Previous original class distribution\n",
    "x_train_resC1, y_train_resC1 = SMOTE(ratio=\"auto\").fit_sample(X_trainC1, y_trainC1)\n",
    "print(pd.Series(y_train_resC1).value_counts()) #Preview synthetic sample class distribution"
   ]
  },
  {
   "cell_type": "code",
   "execution_count": 20,
   "metadata": {},
   "outputs": [
    {
     "name": "stdout",
     "output_type": "stream",
     "text": [
      "1    200389\n",
      "0    200389\n",
      "dtype: int64\n"
     ]
    }
   ],
   "source": [
    "# x_train_resC1, y_train_resC1 = sm.fit_sample(X_trainC1, y_trainC1)"
   ]
  },
  {
   "cell_type": "code",
   "execution_count": 21,
   "metadata": {},
   "outputs": [
    {
     "data": {
      "text/plain": [
       "KNeighborsClassifier(algorithm='auto', leaf_size=30, metric='minkowski',\n",
       "           metric_params=None, n_jobs=None, n_neighbors=3, p=2,\n",
       "           weights='uniform')"
      ]
     },
     "execution_count": 21,
     "metadata": {},
     "output_type": "execute_result"
    }
   ],
   "source": [
    "modeB3=KNeighborsClassifier(n_neighbors=3)\n",
    "modeB3.fit(x_train_resC1,y_train_resC1) #(x_train_res,y_train_res) y_train_res10"
   ]
  },
  {
   "cell_type": "code",
   "execution_count": 22,
   "metadata": {},
   "outputs": [],
   "source": [
    "#Predict\n",
    "y_predB3=modeB3.predict(X_testC1)"
   ]
  },
  {
   "cell_type": "code",
   "execution_count": 23,
   "metadata": {},
   "outputs": [
    {
     "name": "stdout",
     "output_type": "stream",
     "text": [
      "              precision    recall  f1-score   support\n",
      "\n",
      "           0       0.96      0.91      0.93     22389\n",
      "           1       0.69      0.84      0.75      5433\n",
      "\n",
      "   micro avg       0.89      0.89      0.89     27822\n",
      "   macro avg       0.82      0.87      0.84     27822\n",
      "weighted avg       0.91      0.89      0.90     27822\n",
      "\n",
      "[[20332   891]\n",
      " [ 2057  4542]]\n",
      "accuracy is 0.8940406872259363\n"
     ]
    }
   ],
   "source": [
    "print(classification_report(y_testC1, y_predB3))\n",
    "print(confusion_matrix(y_predB3,y_testC1))\n",
    "# Accuracy score\n",
    "print('accuracy is',accuracy_score(y_predB3,y_testC1))\n",
    "#with smote much worse"
   ]
  },
  {
   "cell_type": "code",
   "execution_count": null,
   "metadata": {},
   "outputs": [],
   "source": [
    "from xgboost import XGBClassifier\n",
    "from sklearn.model_selection import train_test_split\n",
    "from sklearn.metrics import accuracy_score\n",
    "x_train1, x_val1, y_train1, y_val1 = train_test_split(features, targets,test_size = .1,random_state=12)\n",
    "model00 = XGBClassifier()\n",
    "model00.fit(x_train1, y_train1)"
   ]
  },
  {
   "cell_type": "code",
   "execution_count": null,
   "metadata": {},
   "outputs": [],
   "source": [
    "y_pred00 = model.predict(x_val1)\n",
    "\n",
    "accuracy = accuracy_score(y_val1, y_pred00)\n",
    "print(\"Accuracy: %.2f%%\" % (accuracy * 100.0))"
   ]
  },
  {
   "cell_type": "code",
   "execution_count": null,
   "metadata": {},
   "outputs": [],
   "source": [
    "# creating odd list of K for KNN\n",
    "myList = list(range(2,20))\n",
    "\n",
    "# subsetting just the odd ones\n",
    "neighbors = filter(lambda x: x % 2 != 0, myList)\n",
    "\n",
    "# empty list that will hold cv scores\n",
    "cv_scores = []\n",
    "\n",
    "# perform 10-fold cross validation\n",
    "for k in neighbors:\n",
    "    knn = KNeighborsClassifier(n_neighbors=k)\n",
    "    scores = cross_val_score(knn, X_train, y_train, cv=10, scoring='accuracy')\n",
    "    cv_scores.append(scores.mean())"
   ]
  },
  {
   "cell_type": "code",
   "execution_count": null,
   "metadata": {},
   "outputs": [],
   "source": [
    "print(cv_scores)"
   ]
  },
  {
   "cell_type": "markdown",
   "metadata": {},
   "source": [
    "# Model PCA and LogisticRegression: accuracy is 0.9469844008338725"
   ]
  },
  {
   "cell_type": "code",
   "execution_count": 24,
   "metadata": {},
   "outputs": [
    {
     "name": "stderr",
     "output_type": "stream",
     "text": [
      "/home/ec2-user/anaconda3/envs/tensorflow_p36/lib/python3.6/site-packages/sklearn/linear_model/logistic.py:433: FutureWarning: Default solver will be changed to 'lbfgs' in 0.22. Specify a solver to silence this warning.\n",
      "  FutureWarning)\n"
     ]
    }
   ],
   "source": [
    "X_traina1, X_testa1, y_traina1, y_testa1 = train_test_split(features, targets, test_size = 0.1, random_state = 42)\n",
    "# pca = PCA(n_components = 150) #only include first 150 components\n",
    "logistic = LogisticRegression(fit_intercept = False, C = 1e12) #Starter code\n",
    "# forest_one = RandomForestClassifier(n_estimators=130, random_state=12)\n",
    "pca = PCA()\n",
    "pipeline = Pipeline(steps=[('pca', pca), ('logistic', logistic)])\n",
    "fit = pipeline.fit(X_traina1, y_traina1)#fit model\n",
    "prediction = pipeline.predict(X_testa1) #test model wit\n"
   ]
  },
  {
   "cell_type": "code",
   "execution_count": 25,
   "metadata": {},
   "outputs": [
    {
     "name": "stdout",
     "output_type": "stream",
     "text": [
      "\n",
      "Test Results\n",
      "0.9469844008338725\n",
      "0.7936683232100129\n"
     ]
    }
   ],
   "source": [
    "# print ('Validation Results')\n",
    "print ('\\nTest Results')\n",
    "print (pipeline.score(X_testa1, y_testa1))\n",
    "print (recall_score(y_testa1, prediction))"
   ]
  },
  {
   "cell_type": "code",
   "execution_count": 26,
   "metadata": {},
   "outputs": [
    {
     "name": "stdout",
     "output_type": "stream",
     "text": [
      "              precision    recall  f1-score   support\n",
      "\n",
      "           0       0.95      0.98      0.97     22389\n",
      "           1       0.92      0.79      0.85      5433\n",
      "\n",
      "   micro avg       0.95      0.95      0.95     27822\n",
      "   macro avg       0.94      0.89      0.91     27822\n",
      "weighted avg       0.95      0.95      0.95     27822\n",
      "\n",
      "[[22035   354]\n",
      " [ 1121  4312]]\n",
      "accuracy is 0.9469844008338725\n"
     ]
    }
   ],
   "source": [
    "# Summary of the predictions made by the classifier\n",
    "print(classification_report(y_testa1, prediction))\n",
    "print(confusion_matrix(y_testa1, prediction))\n",
    "# Accuracy score\n",
    "print('accuracy is',accuracy_score(prediction,y_testa1))"
   ]
  },
  {
   "cell_type": "code",
   "execution_count": 28,
   "metadata": {},
   "outputs": [
    {
     "name": "stdout",
     "output_type": "stream",
     "text": [
      "0.9998863028175851\n"
     ]
    }
   ],
   "source": [
    "pca=PCA()\n",
    "pca.fit_transform(features,targets)\n",
    "explained_variance=pca.explained_variance_ratio_\n",
    "print(sum(explained_variance[0:130]))"
   ]
  },
  {
   "cell_type": "code",
   "execution_count": 36,
   "metadata": {},
   "outputs": [
    {
     "name": "stdout",
     "output_type": "stream",
     "text": [
      "0.997592663957758\n"
     ]
    },
    {
     "data": {
      "text/plain": [
       "290"
      ]
     },
     "execution_count": 36,
     "metadata": {},
     "output_type": "execute_result"
    }
   ],
   "source": [
    "print(sum(explained_variance[0:4]))\n",
    "len(explained_variance)"
   ]
  },
  {
   "cell_type": "code",
   "execution_count": 41,
   "metadata": {},
   "outputs": [
    {
     "data": {
      "text/plain": [
       "array([[-5.40541690e+00, -3.38358107e+00, -1.56231317e+00, ...,\n",
       "        -3.64210832e-14,  2.11276686e-14, -4.82693325e-15],\n",
       "       [-5.40589939e+00, -3.38445376e+00, -1.56336621e+00, ...,\n",
       "        -1.84826991e-14,  4.52731208e-14, -7.09204758e-15],\n",
       "       [-5.40595050e+00, -3.38445297e+00, -1.56317997e+00, ...,\n",
       "         1.61444128e-14,  9.58350530e-14, -1.49239094e-14],\n",
       "       ...,\n",
       "       [-5.40558891e+00, -3.38279082e+00, -1.56401392e+00, ...,\n",
       "        -3.01592655e-16,  1.23844211e-16, -9.66407792e-18],\n",
       "       [-5.40563309e+00, -3.38284318e+00, -1.56400275e+00, ...,\n",
       "         4.26858550e-16, -4.06125106e-17, -3.67741380e-18],\n",
       "       [-5.40566250e+00, -3.38287678e+00, -1.56405390e+00, ...,\n",
       "        -4.46893746e-16,  8.72631819e-17,  4.75404592e-19]])"
      ]
     },
     "execution_count": 41,
     "metadata": {},
     "output_type": "execute_result"
    }
   ],
   "source": [
    "principalComponents = pca.fit_transform(features)\n",
    "# principalDf = pd.DataFrame(data = principalComponents\n",
    "#              , columns = ['principal component 1', 'principal component 2'])\n",
    "principalComponents"
   ]
  },
  {
   "cell_type": "code",
   "execution_count": 44,
   "metadata": {},
   "outputs": [
    {
     "name": "stdout",
     "output_type": "stream",
     "text": [
      "          hour  pressure  humidity  temperature  wind_speed  Distance  \\\n",
      "PC-1  0.000461  0.000048  0.000119     0.000037    0.000156 -0.000034   \n",
      "PC-2  0.001055  0.000097  0.000156    -0.000077    0.000340 -0.000088   \n",
      "PC-3 -0.000217  0.000024  0.000873    -0.000413    0.000452  0.000100   \n",
      "PC-4  0.000258 -0.000044  0.000298    -0.000151    0.000025  0.000418   \n",
      "\n",
      "      CarrierDelay  WeatherDelay  NASDelay  SecurityDelay  LateAircraftDelay  \\\n",
      "PC-1      0.981502      0.003635  0.041016       0.000058           0.186967   \n",
      "PC-2     -0.189040      0.076716  0.063812       0.000155           0.976884   \n",
      "PC-3     -0.001204      0.914252  0.393175       0.000002          -0.097717   \n",
      "PC-4     -0.030253     -0.397795  0.916322       0.000236          -0.034476   \n",
      "\n",
      "      CancellationCode  Origin_ATL  Origin_CLT  Origin_DEN  Origin_DFW  \\\n",
      "PC-1     -3.615568e-35   -0.000242   -0.000246   -0.000029    0.000109   \n",
      "PC-2     -2.080583e-35   -0.000874   -0.000388    0.000461   -0.000024   \n",
      "PC-3     -7.841453e-35   -0.000037   -0.000431   -0.000395   -0.000810   \n",
      "PC-4      2.420459e-34   -0.001879    0.000096    0.000823   -0.000185   \n",
      "\n",
      "      Origin_ORD  Dest_ABE  Dest_ABI  Dest_ABQ             ...               \\\n",
      "PC-1    0.000408  0.000004  0.000005 -0.000005             ...                \n",
      "PC-2    0.000825 -0.000004  0.000004 -0.000007             ...                \n",
      "PC-3    0.001673 -0.000005 -0.000003 -0.000019             ...                \n",
      "PC-4    0.001145 -0.000002 -0.000005 -0.000027             ...                \n",
      "\n",
      "      description_freezing rain  description_haze  \\\n",
      "PC-1              -1.000200e-06          0.000083   \n",
      "PC-2              -1.091441e-06          0.000153   \n",
      "PC-3              -8.948525e-07         -0.000038   \n",
      "PC-4              -1.056512e-06          0.000191   \n",
      "\n",
      "      description_heavy intensity drizzle  description_heavy intensity rain  \\\n",
      "PC-1                        -9.028276e-07                          0.000186   \n",
      "PC-2                         1.949170e-06                          0.000248   \n",
      "PC-3                        -4.151482e-06                         -0.000045   \n",
      "PC-4                         3.372258e-06                          0.000080   \n",
      "\n",
      "      description_heavy snow  description_light intensity drizzle  \\\n",
      "PC-1               -0.000002                             0.000012   \n",
      "PC-2               -0.000002                            -0.000007   \n",
      "PC-3               -0.000001                            -0.000024   \n",
      "PC-4                0.000004                             0.000004   \n",
      "\n",
      "      description_light rain  description_light snow  description_mist  \\\n",
      "PC-1                0.000133                0.000232         -0.000068   \n",
      "PC-2                0.000279                0.000334         -0.000232   \n",
      "PC-3                0.000473                0.000384          0.000141   \n",
      "PC-4                0.000100                0.000270          0.000256   \n",
      "\n",
      "      description_moderate rain  description_overcast clouds  \\\n",
      "PC-1                   0.000098                 1.261718e-04   \n",
      "PC-2                   0.000183                -9.104041e-07   \n",
      "PC-3                   0.000058                 1.697879e-04   \n",
      "PC-4                   0.000086                 7.708058e-05   \n",
      "\n",
      "      description_proximity shower rain  description_proximity thunderstorm  \\\n",
      "PC-1                       2.735154e-06                        9.247939e-07   \n",
      "PC-2                       3.489598e-07                       -8.588469e-07   \n",
      "PC-3                       3.244434e-06                        3.445150e-05   \n",
      "PC-4                       5.523407e-06                       -3.604996e-07   \n",
      "\n",
      "      description_scattered clouds  description_sky is clear  \\\n",
      "PC-1                     -0.000061                 -0.000661   \n",
      "PC-2                     -0.000085                 -0.000980   \n",
      "PC-3                     -0.000125                 -0.001222   \n",
      "PC-4                     -0.000136                 -0.001164   \n",
      "\n",
      "      description_smoke  description_snow  description_thunderstorm  \\\n",
      "PC-1          -0.000001          0.000147              6.265929e-06   \n",
      "PC-2          -0.000001          0.000333              4.702014e-07   \n",
      "PC-3          -0.000001          0.000481              1.587246e-06   \n",
      "PC-4          -0.000002          0.000266              5.653826e-06   \n",
      "\n",
      "      description_thunderstorm with rain  description_very heavy rain  \n",
      "PC-1                       -2.421138e-06                 2.599378e-07  \n",
      "PC-2                       -8.941751e-07                 6.465715e-07  \n",
      "PC-3                        2.764946e-06                 2.413139e-06  \n",
      "PC-4                        1.129240e-05                -1.666950e-06  \n",
      "\n",
      "[4 rows x 290 columns]\n"
     ]
    }
   ],
   "source": [
    "# PCA\n",
    "pca = PCA(n_components=4)\n",
    "pca.fit_transform(features)\n",
    "\n",
    "# Dump components relations with features:\n",
    "print (pd.DataFrame(pca.components_,columns=features.columns,index = ['PC-1','PC-2','PC-3','PC-4']))"
   ]
  },
  {
   "cell_type": "markdown",
   "metadata": {},
   "source": [
    "# Save model info"
   ]
  },
  {
   "cell_type": "code",
   "execution_count": 56,
   "metadata": {},
   "outputs": [],
   "source": [
    "### save the model to disk\n",
    "# filename = 'flightpcaandrandomforest120_model.sav'\n",
    "# pickle.dump(clf_rf, open(filename, 'wb'))\n",
    " \n",
    "# # load the model from disk\n",
    "# loaded_model = pickle.load(open(filename, 'rb'))\n",
    "# result = loaded_model.score(x_val, y_val)\n",
    "# print(result)\n",
    "# y_train_res"
   ]
  },
  {
   "cell_type": "code",
   "execution_count": null,
   "metadata": {},
   "outputs": [],
   "source": [
    "importances = y_predB3.feature_importances_\n",
    "importances"
   ]
  },
  {
   "cell_type": "markdown",
   "metadata": {},
   "source": [
    "# scoring"
   ]
  },
  {
   "cell_type": "code",
   "execution_count": null,
   "metadata": {},
   "outputs": [],
   "source": [
    "# from sklearn.metrics import precision_score\n",
    "# from sklearn.metrics import precision_recall_fscore_support\n",
    "# from sklearn.metrics import roc_auc_score\n",
    "# from sklearn.metrics import recall_score\n",
    "\n",
    "# y_true,y_pred=y_test10,y_predB1\n",
    "\n",
    "# roc_auc_score(y_true, y_pred)\n",
    "# precision_score(y_true, y_pred, average='macro')  \n",
    "# precision_score(y_true, y_pred, average='micro')  \n",
    "# precision_score(y_true, y_pred, average='weighted')\n",
    "# precision_score(y_true, y_pred, average=None)\n",
    "\n",
    "# precision_recall_fscore_support(y_true, y_pred, average='macro')\n",
    "# precision_recall_fscore_support(y_true, y_pred, average='micro')\n",
    "# precision_recall_fscore_support(y_true, y_pred, average='weighted')\n",
    "\n",
    "\n",
    "# recall_score(y_true, y_pred, average='macro')  \n",
    "# recall_score(y_true, y_pred, average='micro')  \n",
    "# recall_score(y_true, y_pred, average='weighted')  \n",
    "# recall_score(y_true, y_pred, average=None)\n",
    "\n",
    "# precision, recall, thresholds = precision_recall_curve(y_true, y_scores)\n",
    "#     precision  \n",
    "#     recall\n",
    "#     thresholds"
   ]
  },
  {
   "cell_type": "code",
   "execution_count": 77,
   "metadata": {},
   "outputs": [],
   "source": [
    "# from sklearn.metrics import roc_auc_score\n",
    "# from sklearn.metrics import roc_curve\n",
    "# # X_train,X_test,y_train,y_test=x_train4, x_val4, y_train4, y_val4\n",
    "# X_train,X_test,y_train,y_test=x_train5, x_val5, y_train5, y_val5\n",
    "# logit_roc_auc = roc_auc_score(y_test, logreg.predict(X_test))\n",
    "# fpr, tpr, thresholds = roc_curve(y_test, logreg.predict_proba(X_test)[:,1])\n",
    "# plt.figure()\n",
    "# plt.plot(fpr, tpr, label='Logistic Regression (area = %0.2f)' % logit_roc_auc)\n",
    "# plt.plot([0, 1], [0, 1],'r--')\n",
    "# plt.xlim([0.0, 1.0])\n",
    "# plt.ylim([0.0, 1.05])\n",
    "# plt.xlabel('False Positive Rate')\n",
    "# plt.ylabel('True Positive Rate')\n",
    "# plt.title('Receiver operating characteristic')\n",
    "# plt.legend(loc=\"lower right\")\n",
    "# plt.savefig('Log_ROC')\n",
    "# plt.show()"
   ]
  },
  {
   "cell_type": "code",
   "execution_count": null,
   "metadata": {},
   "outputs": [],
   "source": [
    "# # SMOTE\n",
    "# from imblearn.over_sampling import SMOTE, ADASYN\n",
    "# print(y_train.value_counts()) #Previous original class distribution\n",
    "# x_resampled, y_resampled = SMOTE(ratio=\"auto\").fit_sample(X_train,y_train)\n",
    "# print(pd.Series(y_resampled).value_counts()) #Preview synthetic sample class distribution"
   ]
  }
 ],
 "metadata": {
  "kernelspec": {
   "display_name": "conda_tensorflow_p36",
   "language": "python",
   "name": "conda_tensorflow_p36"
  },
  "language_info": {
   "codemirror_mode": {
    "name": "ipython",
    "version": 3
   },
   "file_extension": ".py",
   "mimetype": "text/x-python",
   "name": "python",
   "nbconvert_exporter": "python",
   "pygments_lexer": "ipython3",
   "version": "3.6.5"
  },
  "toc": {
   "base_numbering": 1,
   "nav_menu": {},
   "number_sections": true,
   "sideBar": true,
   "skip_h1_title": false,
   "title_cell": "Table of Contents",
   "title_sidebar": "Contents",
   "toc_cell": false,
   "toc_position": {
    "height": "calc(100% - 180px)",
    "left": "10px",
    "top": "150px",
    "width": "254.391px"
   },
   "toc_section_display": true,
   "toc_window_display": true
  },
  "toc-autonumbering": false,
  "toc-showcode": false,
  "toc-showmarkdowntxt": false,
  "toc-showtags": false,
  "varInspector": {
   "cols": {
    "lenName": 16,
    "lenType": 16,
    "lenVar": 40
   },
   "kernels_config": {
    "python": {
     "delete_cmd_postfix": "",
     "delete_cmd_prefix": "del ",
     "library": "var_list.py",
     "varRefreshCmd": "print(var_dic_list())"
    },
    "r": {
     "delete_cmd_postfix": ") ",
     "delete_cmd_prefix": "rm(",
     "library": "var_list.r",
     "varRefreshCmd": "cat(var_dic_list()) "
    }
   },
   "types_to_exclude": [
    "module",
    "function",
    "builtin_function_or_method",
    "instance",
    "_Feature"
   ],
   "window_display": false
  }
 },
 "nbformat": 4,
 "nbformat_minor": 2
}
