{
 "cells": [
  {
   "cell_type": "code",
   "execution_count": 4,
   "metadata": {},
   "outputs": [],
   "source": [
    "import pandas as pd "
   ]
  },
  {
   "cell_type": "code",
   "execution_count": 36,
   "metadata": {},
   "outputs": [
    {
     "name": "stderr",
     "output_type": "stream",
     "text": [
      "/Users/powersky/anaconda3/lib/python3.6/site-packages/IPython/core/interactiveshell.py:3020: DtypeWarning: Columns (48,69,76,77,84) have mixed types. Specify dtype option on import or set low_memory=False.\n",
      "  interactivity=interactivity, compiler=compiler, result=result)\n"
     ]
    }
   ],
   "source": [
    "\n",
    "# df=pd.read_csv(\"FlightData/On_time2018.csv\")\n",
    "# df.head()\n",
    "# len(df)\n",
    "# # print(df[\"FlightDate\"]=\"2018-01-11\")\n",
    "# # date123=df[\"FlightDate\"]==\"2018-01-11\"\n",
    "# # df[''].value_counts()\n",
    "# df.groupby(by=\"FlightDate\")\n",
    "# # df.iloc[FlightDate=\"2018-01-11\"]\n",
    "# # len(df.filter(regex='\\2018-01-11'))\n",
    "# df[\"FlightDate\"].count()\n",
    "df9 = pd.read_csv(\"FlightData/On_time2018.csv\")\n",
    "# df9.columns[10:25]\n",
    "# df9[\"Origin\"].value_counts()[0:10]\n",
    "# cities=\"ATL\",\"ORD\",\"DFW,CLT,DEN,LAX,PHX,SFO,IAH,LGA\n",
    "# starte\n",
    "# df9.columns()\n",
    "# df9[[\"ArrTime\"]]\n",
    "carl=df9[0:10]\n"
   ]
  },
  {
   "cell_type": "code",
   "execution_count": 84,
   "metadata": {},
   "outputs": [
    {
     "ename": "NameError",
     "evalue": "name 'carlDepTime' is not defined",
     "output_type": "error",
     "traceback": [
      "\u001b[0;31m---------------------------------------------------------------------------\u001b[0m",
      "\u001b[0;31mNameError\u001b[0m                                 Traceback (most recent call last)",
      "\u001b[0;32m<ipython-input-84-c8450c6bd55c>\u001b[0m in \u001b[0;36m<module>\u001b[0;34m\u001b[0m\n\u001b[1;32m     42\u001b[0m \u001b[0;31m# carl[\"newtime\"]\u001b[0m\u001b[0;34m\u001b[0m\u001b[0;34m\u001b[0m\u001b[0;34m\u001b[0m\u001b[0m\n\u001b[1;32m     43\u001b[0m \u001b[0;31m# carl1=carl[0:10]\u001b[0m\u001b[0;34m\u001b[0m\u001b[0;34m\u001b[0m\u001b[0;34m\u001b[0m\u001b[0m\n\u001b[0;32m---> 44\u001b[0;31m \u001b[0mcarl\u001b[0m\u001b[0;34m[\u001b[0m\u001b[0;34m\"newtime\"\u001b[0m\u001b[0;34m]\u001b[0m\u001b[0;34m=\u001b[0m\u001b[0mcarl\u001b[0m\u001b[0;34m.\u001b[0m\u001b[0mFlightDate\u001b[0m\u001b[0;34m+\u001b[0m\u001b[0mcarlDepTime\u001b[0m\u001b[0;34m\u001b[0m\u001b[0;34m\u001b[0m\u001b[0m\n\u001b[0m\u001b[1;32m     45\u001b[0m \u001b[0mcarl\u001b[0m\u001b[0;34m[\u001b[0m\u001b[0;34m\"newtime\"\u001b[0m\u001b[0;34m]\u001b[0m\u001b[0;34m\u001b[0m\u001b[0;34m\u001b[0m\u001b[0m\n",
      "\u001b[0;31mNameError\u001b[0m: name 'carlDepTime' is not defined"
     ]
    }
   ],
   "source": [
    "# carl[[0:1,0:1]]\n",
    "# carl[columns='DepTime']\n",
    "# carl.column.isin(\"DepTime\")\n",
    "# Year', 'Quarter', 'Month', 'DayofMonth', 'DayOfWeek', 'FlightDate',\n",
    "#        'Reporting_Airline', 'DOT_ID_Reporting_Airline',\n",
    "#        'IATA_CODE_Reporting_Airline', 'Tail_Number',Flight_Number_Reporting_Airline', 'OriginAirportID',\n",
    "#        'OriginAirportSeqID', 'OriginCityMarketID', 'Origin', 'OriginCityName',\n",
    "#        'OriginState', 'OriginStateFips', 'OriginStateName', 'OriginWac'\n",
    "# DestAirportID', 'DestAirportSeqID', 'DestCityMarketID', 'Dest',\n",
    "#        'DestCityName', 'DestState', 'DestStateFips', 'DestStateName',\n",
    "#        'DestWac', 'CRSDepTime', 'DepTime', 'DepDelay', 'DepDelayMinutes',\n",
    "#        'DepDel15', 'DepartureDelayGroups'\n",
    "# 'DepTimeBlk', 'TaxiOut', 'WheelsOff', 'WheelsOn', 'TaxiIn',\n",
    "#        'CRSArrTime', 'ArrTime', 'ArrDelay', 'ArrDelayMinutes', 'ArrDel15',\n",
    "#        'ArrivalDelayGroups', 'ArrTimeBlk', 'Cancelled', 'CancellationCode',\n",
    "#        'Diverted'\n",
    "# CRSElapsedTime', 'ActualElapsedTime', 'AirTime', 'Flights', 'Distance',\n",
    "#        'DistanceGroup', 'CarrierDelay', 'WeatherDelay', 'NASDelay',\n",
    "#        'SecurityDelay', 'LateAircraftDelay', 'FirstDepTime', 'TotalAddGTime',\n",
    "#        'LongestAddGTime', 'DivAirportLandings', 'DivReachedDest',\n",
    "#        'DivActualElapsedTime', 'DivArrDelay', 'DivDistance', 'Div1Airport',\n",
    "#        'Div1AirportID', 'Div1AirportSeqID', 'Div1WheelsOn', 'Div1TotalGTime',\n",
    "#        'Div1LongestGTime'\n",
    "# Div1WheelsOff', 'Div1TailNum', 'Div2Airport', 'Div2AirportID',\n",
    "#        'Div2AirportSeqID', 'Div2WheelsOn', 'Div2TotalGTime',\n",
    "#        'Div2LongestGTime', 'Div2WheelsOff', 'Div2TailNum', 'Div3Airport',\n",
    "#        'Div3AirportID', 'Div3AirportSeqID', 'Div3WheelsOn', 'Div3TotalGTime',\n",
    "#        'Div3LongestGTime', 'Div3WheelsOff', 'Div3TailNum', 'Div4Airport',\n",
    "#        'Div4AirportID', 'Div4AirportSeqID', 'Div4WheelsOn', 'Div4TotalGTime',\n",
    "#        'Div4LongestGTime', 'Div4WheelsOff'\n",
    "# 'Div4TailNum', 'Div5Airport', 'Div5AirportID', 'Div5AirportSeqID',\n",
    "#        'Div5WheelsOn', 'Div5TotalGTime', 'Div5LongestGTime', 'Div5WheelsOff',\n",
    "#        'Div5TailNum', 'Unnamed: 109\n",
    "# carl[0:10]\n",
    "carl[['ArrTime', 'ArrDelay', 'ArrDelayMinutes']]\n",
    "carl[[\"FlightDate\",'DestCityName', 'DestState', 'DestStateFips', 'DestStateName',\n",
    "       'DestWac', 'CRSDepTime', 'DepTime', 'DepDelay', 'DepDelayMinutes',\n",
    "       'DepDel15',\n",
    "'DepTimeBlk', 'TaxiOut', 'WheelsOff', 'WheelsOn', 'TaxiIn',\n",
    "       'CRSArrTime', 'ArrTime', 'ArrDelay']]\n",
    "# carl[\"newtime\"]=carl.FlightDate+carl.DepTime\n",
    "# carl[\"newtime\"]\n",
    "# carl1=carl[0:10]\n",
    "carl[\"newtime\"]=carl.FlightDate+carlDepTime\n",
    "carl[\"newtime\"]"
   ]
  },
  {
   "cell_type": "code",
   "execution_count": 19,
   "metadata": {},
   "outputs": [
    {
     "name": "stdout",
     "output_type": "stream",
     "text": [
      "<class 'pandas.core.frame.DataFrame'>\n",
      "RangeIndex: 570118 entries, 0 to 570117\n",
      "Data columns (total 5 columns):\n",
      "Month         570118 non-null int64\n",
      "DayofMonth    570118 non-null int64\n",
      "DayOfWeek     570118 non-null int64\n",
      "Origin        570118 non-null object\n",
      "Dest          570118 non-null object\n",
      "dtypes: int64(3), object(2)\n",
      "memory usage: 21.7+ MB\n"
     ]
    }
   ],
   "source": [
    "#Get Dataframes of all 2017 Months and merge them \n",
    "#most active cities:\n",
    "\n",
    "files = [\"FlightData/On_time2018.csv\",\"FlightData/On_Time2017.csv\",\"FlightData/On_Time2016.csv\",\"FlightData/On_Time2015.csv\"]\n",
    "col_names=['Month', 'DayofMonth', 'DayOfWeek','Origin', 'Dest']#, 'UniqueCarrier', 'FlightNum', 'Origin', 'Dest', 'DepTime', 'DepDelay', 'TaxiOut', 'WheelsOff', 'WheelsOn', 'TaxiIn', 'ArrTime', 'ArrDelay', 'Cancelled', 'Diverted', 'AirTime', 'Flights', 'Distance', 'CarrierDelay', 'WeatherDelay', 'NASDelay', 'SecurityDelay', 'LateAircraftDelay', 'DivAirportLandings']\n",
    "df = pd.read_csv(files[0], usecols=col_names)[col_names]\n",
    "df2 = pd.read_csv(files[1], usecols=col_names)[col_names]   \n",
    "df3 = pd.read_csv(files[2], usecols=col_names)[col_names]\n",
    "df4 = pd.read_csv(files[3], usecols=col_names)[col_names]\n",
    "df.info()"
   ]
  },
  {
   "cell_type": "code",
   "execution_count": 12,
   "metadata": {},
   "outputs": [
    {
     "name": "stdout",
     "output_type": "stream",
     "text": [
      "<class 'pandas.core.frame.DataFrame'>\n",
      "Int64Index: 1935930 entries, 0 to 469967\n",
      "Data columns (total 3 columns):\n",
      "Month         int64\n",
      "DayofMonth    int64\n",
      "DayOfWeek     int64\n",
      "dtypes: int64(3)\n",
      "memory usage: 59.1 MB\n"
     ]
    }
   ],
   "source": [
    "frame = [df,df2, df3, df4]\n",
    "merged_df = pd.concat(frame, axis = 0)\n",
    "merged_df.info()"
   ]
  },
  {
   "cell_type": "code",
   "execution_count": null,
   "metadata": {},
   "outputs": [],
   "source": [
    "df.head()"
   ]
  },
  {
   "cell_type": "code",
   "execution_count": null,
   "metadata": {},
   "outputs": [],
   "source": []
  }
 ],
 "metadata": {
  "kernelspec": {
   "display_name": "Python 3",
   "language": "python",
   "name": "python3"
  },
  "language_info": {
   "codemirror_mode": {
    "name": "ipython",
    "version": 3
   },
   "file_extension": ".py",
   "mimetype": "text/x-python",
   "name": "python",
   "nbconvert_exporter": "python",
   "pygments_lexer": "ipython3",
   "version": "3.6.7"
  }
 },
 "nbformat": 4,
 "nbformat_minor": 2
}
