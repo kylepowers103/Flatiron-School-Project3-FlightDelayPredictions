{
 "cells": [
  {
   "cell_type": "markdown",
   "metadata": {},
   "source": [
    "### Question: Predicting # of Flight delays given certain weather and past flight data"
   ]
  },
  {
   "cell_type": "code",
   "execution_count": null,
   "metadata": {},
   "outputs": [],
   "source": [
    "import pandas as pd\n",
    "import numpy as np"
   ]
  },
  {
   "cell_type": "code",
   "execution_count": null,
   "metadata": {},
   "outputs": [],
   "source": [
    "# Read in csv files from Kaggle\n",
    "pressure_df = pd.read_csv('weather_data/pressure.csv')\n",
    "humidity_df = pd.read_csv('weather_data/humidity.csv')\n",
    "temperature_df = pd.read_csv('weather_data/temperature.csv')\n",
    "wind_direction_df = pd.read_csv('weather_data/wind_direction.csv')\n",
    "wind_speed_df = pd.read_csv('weather_data/wind_speed.csv')\n",
    "weather_description_df = pd.read_csv(\"weather_data/weather_description.csv\")\n"
   ]
  },
  {
   "cell_type": "code",
   "execution_count": null,
   "metadata": {},
   "outputs": [],
   "source": [
    "# Top 5 cities with most values in flight delay dataset\n",
    "cities = [\"Atlanta\",'Chicago','Dallas','Charlotte','Denver']"
   ]
  },
  {
   "cell_type": "code",
   "execution_count": null,
   "metadata": {},
   "outputs": [],
   "source": [
    "def clean_df(dataframe,name):\n",
    "    dataframe = dataframe[[\"datetime\"] + cities] # call subset of df\n",
    "    dataframe_2015_index = list(dataframe.index[dataframe['datetime'] == \"2015-01-01 00:00:00\"])\n",
    "    # going from 2015 - 2017\n",
    "    dataframe = dataframe.iloc[dataframe_2015_index[0]:,:]\n",
    "    # add name to columns specifying originating df. Need this specified when joining table\n",
    "    new_names = dict(zip(list(cities),list(np.core.defchararray.add(cities,name))))\n",
    "    new_names['datetime'] = 'datetime'\n",
    "    dataframe = dataframe.rename(columns = new_names)\n",
    "    return dataframe\n",
    "        "
   ]
  },
  {
   "cell_type": "code",
   "execution_count": null,
   "metadata": {},
   "outputs": [],
   "source": [
    "# New cleaned and correctly labeled df\n",
    "pressure_df = clean_df(pressure_df, '_pressure')\n",
    "humidity_df = clean_df(humidity_df, '_humidity')\n",
    "temperature_df = clean_df(temperature_df, '_temperature')\n",
    "wind_direction_df = clean_df(wind_direction_df, '_wind_direction')\n",
    "wind_speed_df = clean_df(wind_speed_df, '_wind_speed')\n",
    "weather_description_df = clean_df(weather_description_df, '_description')"
   ]
  },
  {
   "cell_type": "code",
   "execution_count": null,
   "metadata": {},
   "outputs": [],
   "source": [
    "# Merge the individual datasets on datetime\n",
    "A = pd.merge(pressure_df.merge(humidity_df, how = 'outer'),temperature_df, how = 'outer')\n",
    "B = pd.merge(wind_direction_df.merge(wind_speed_df, how = 'outer'), weather_description_df, how = 'outer')\n",
    "weather_df = A.merge(B, how = 'outer')\n",
    "    "
   ]
  },
  {
   "cell_type": "code",
   "execution_count": null,
   "metadata": {
    "scrolled": false
   },
   "outputs": [],
   "source": [
    "weather_df.head()"
   ]
  },
  {
   "cell_type": "code",
   "execution_count": null,
   "metadata": {},
   "outputs": [],
   "source": [
    "# Check for column names that have null values\n",
    "null_list = list(weather_df.columns[weather_df.isna().any()])\n",
    "for column in null_list:\n",
    "    # check missing values ratio to dataset size\n",
    "    print(column, (weather_df[column].isna().sum()/weather_df.shape[0])*100)\n",
    "    \n",
    "# Output:\n",
    "# Chicago_pressure 0.003915886752555116\n",
    "# Atlanta_humidity 0.07440184829854721\n",
    "# Chicago_humidity 0.003915886752555116\n",
    "# Dallas_humidity 0.12922426283431884\n",
    "# Charlotte_humidity 0.775345577005913\n",
    "# Denver_humidity 0.01174766025766535\n",
    "# Dallas_wind_speed 0.003915886752555116\n",
    "# Charlotte_wind_speed 0.003915886752555116\n",
    "\n",
    "# Since they're so minute, will just drop rows that have null values"
   ]
  },
  {
   "cell_type": "code",
   "execution_count": null,
   "metadata": {},
   "outputs": [],
   "source": [
    "weather_df.shape # 25537 rows\n",
    "weather_df = weather_df.dropna()\n",
    "weather_df.shape # 240 rows dropped"
   ]
  },
  {
   "cell_type": "code",
   "execution_count": null,
   "metadata": {},
   "outputs": [],
   "source": [
    "weather_df.head()"
   ]
  },
  {
   "cell_type": "code",
   "execution_count": null,
   "metadata": {},
   "outputs": [],
   "source": [
    "# Split datetime column into Years, Months, Days and time column\n",
    "Year = []\n",
    "Month = []\n",
    "Day = []\n",
    "Time = []\n",
    "for datetime in weather_df['datetime']:\n",
    "    date, time = datetime.split(' ')\n",
    "    year, month, day = date.split('-')\n",
    "    Year.append(year)\n",
    "    Month.append(month)\n",
    "    Day.append(day)\n",
    "    Time.append(time)\n",
    "\n",
    "# Convert arrays to pandas Series and make it int type, so when merging, the object-type will be same\n",
    "weather_df['Year'] = pd.Series(Year, dtype='int32')\n",
    "weather_df[\"Month\"] = pd.Series(Month, dtype='int32')\n",
    "weather_df['Day'] = pd.Series(Day, dtype='int32')\n",
    "weather_df['Time'] = Time"
   ]
  },
  {
   "cell_type": "code",
   "execution_count": null,
   "metadata": {},
   "outputs": [],
   "source": [
    "# Rearranging them so date/time is in beginning\n",
    "weather_df = weather_df[['Year', 'Month', 'Day','Time','Atlanta_pressure', 'Chicago_pressure', 'Dallas_pressure',\\\n",
    "       'Charlotte_pressure', 'Denver_pressure', 'Atlanta_humidity',\\\n",
    "       'Chicago_humidity', 'Dallas_humidity', 'Charlotte_humidity',\\\n",
    "       'Denver_humidity', 'Atlanta_temperature', 'Chicago_temperature',\\\n",
    "       'Dallas_temperature', 'Charlotte_temperature', 'Denver_temperature',\\\n",
    "       'Atlanta_wind_direction', 'Chicago_wind_direction',\\\n",
    "       'Dallas_wind_direction', 'Charlotte_wind_direction',\\\n",
    "       'Denver_wind_direction', 'Atlanta_wind_speed', 'Chicago_wind_speed',\\\n",
    "       'Dallas_wind_speed', 'Charlotte_wind_speed', 'Denver_wind_speed',\\\n",
    "       'Atlanta_description', 'Chicago_description', 'Dallas_description',\\\n",
    "       'Charlotte_description', 'Denver_description']]\n",
    "weather_df.head()"
   ]
  },
  {
   "cell_type": "code",
   "execution_count": null,
   "metadata": {},
   "outputs": [],
   "source": []
  }
 ],
 "metadata": {
  "kernelspec": {
   "display_name": "Python 3",
   "language": "python",
   "name": "python3"
  },
  "language_info": {
   "codemirror_mode": {
    "name": "ipython",
    "version": 3
   },
   "file_extension": ".py",
   "mimetype": "text/x-python",
   "name": "python",
   "nbconvert_exporter": "python",
   "pygments_lexer": "ipython3",
   "version": "3.6.7"
  }
 },
 "nbformat": 4,
 "nbformat_minor": 2
}
